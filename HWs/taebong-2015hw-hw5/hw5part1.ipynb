{
 "cells": [
  {
   "cell_type": "markdown",
   "metadata": {
    "deletable": true,
    "editable": true
   },
   "source": [
    "# Great Lobster! But awful service :-("
   ]
  },
  {
   "cell_type": "markdown",
   "metadata": {
    "deletable": true,
    "editable": true
   },
   "source": [
    "<img src=\"http://i.onionstatic.com/avclub/5336/19/16x9/960.jpg\" width=640 height=480/>"
   ]
  },
  {
   "cell_type": "markdown",
   "metadata": {
    "deletable": true,
    "editable": true
   },
   "source": [
    "We continue to look at recommendation data this homework, but through a very different angle. Instead of trying to answer the question \"Which restaurant would I like\", we look at more aggregate behavior, trying to learn from different reviewers what exactly a restaurant is good for.\n",
    "\n",
    "In other words, is the food great? Ambiance Bad? Or are both good? Or bad?\n",
    "\n",
    "So we need to figure out if a given review contains information about the food, the ambiance or both, and if it is a positive or negative review. Note that reviews might cover both topics, so we need to do this analysis on the level of single sentences.\n",
    "\n",
    "We do this at the level of individual sentences, in multiple reviews, about a restaurant.\n",
    "\n",
    "<img src=\"setup.jpg\" width=500 height=300/>\n",
    "\n",
    "What you will carry out here might be termed a first salvo in such an analysis. It will be a fairly complete salvo, but we shall point out many points of improvement along the road, should you want to pursue a project of this kind.\n",
    "\n",
    "There are many aspects of the data science process that we will touch on in this homework, and many skills that you will gain some familiarity with.\n",
    "\n",
    "1. We will use Spark to do a good fraction of our data reduction. This mimics the situation at many companies, where Hadoop/Spark and other such technologies are used to reduce \"big\" data from many different sources such as logfiles, customer data, etc into features which are ready for machine learning and statistical modeling.\n",
    "2. We will use simple Natural Language processing techniques to parse sentences, splitting them into nouns and adjectives\n",
    "3. We will use the unsupervised probabilistic clustering algorithm Latent Dirichlet Allocation, or LDA, to extract topics from the nouns in review text.\n",
    "4. We will use Naive Bayes Machine Learning to carry out sentiment analysis using adjectives from the review text. This kind of analysis is usually done with external sentiment annotated corpus's such as SentiWordNet, but we hope the calculations will give you an idea of what is involved.\n",
    "5. We will obtain topic estimation from the LDA and probability estimates for sentences in the review from the above classifier to answer the question: what does this review have to say about topics concerning restaurants\n",
    "6. We will use somewhat bayesian techniques which fall under the nomenclatures \"Hierarchical Model\" and \"Empirical Bayes\" to regularize the above probability estimates.\n",
    "\n",
    "(image from Annie Hall, from http://www.avclub.com/article/learning-about-love-meatballs-gnocchi-lobsters-and-214971)\n",
    "\n",
    "This homework is split into two parts. You are looking at the first part `hw5part1.ipynb`. You can run this part on your own machine using Spark. (It was developed on a Mac with Homebrew installed Spark (`brew install apache-spark`). You can also work on it inside of your Vagrant virtual Machine or on AWS. \n",
    "\n",
    "Part 2 (`hw5part2.ipynb`) does not need Spark. You can save the data at the end of part 1 and use it in part 2. Of-course if you realize you made a mistake, you will need to go back and run Part 1 again.\n",
    "\n",
    "IF YOU WORK ON AWS **SHUT DOWN** THE AWS CLUSTER WHEN YOU STOP WORKING for a few hours on the HW! If you just leave the cluster open and then work some more the next day, you will find yourself in a world of financial pain."
   ]
  },
  {
   "cell_type": "markdown",
   "metadata": {
    "deletable": true,
    "editable": true
   },
   "source": [
    "## This homework is due Thursday, November 19th 2015, at 11:59PM EST."
   ]
  },
  {
   "cell_type": "markdown",
   "metadata": {
    "deletable": true,
    "editable": true
   },
   "source": [
    "We'll grade the last commit you make before the homework deadline. We will be looking for the files `hw5part1.ipynb`, `hw5part2.ipynb`, and `dftouse.csv`.\n",
    "\n",
    "**Start NOW. This is a long homework.** There is a lot to read, and while there are less computations than on HW4, you are mixing several techniques. Start **NOW** especially to make sure you have Spark working! You might have to try Vagrant, AWS etc to get things running! Labs 8, 9, and 10 will help you. In 9, Bayes2.ipynb has a simple exposition of the Gaussian-Gaussian Bayesian model, while Lab 10 has a worked Naive Bayes example."
   ]
  },
  {
   "cell_type": "markdown",
   "metadata": {
    "deletable": true,
    "editable": true
   },
   "source": [
    "#Table of Contents\n",
    "* [Great Lobster! But awful service :-(](#Great-Lobster!-But-awful-service-:-%28)\n",
    "\t* [This homework is due Thursday, November 19th 2015, at 11:59PM EST.](#This-homework-is-due-Thursday,-November-19th-2015,-at-11:59PM-EST.)\n",
    "\t* [Q1. Using Spark and Natural Language Processing to preprocess the data](#Q1.-Using-Spark-and-Natural-Language-Processing-to-preprocess-the-data)\n",
    "\t\t* [Setting Python packages and Spark up](#Setting-Python-packages-and-Spark-up)\n",
    "\t\t* [Reading in the data](#Reading-in-the-data)\n",
    "\t\t* [Sub-sampling the data](#Sub-sampling-the-data)\n",
    "\t\t\t* [1.1 Create a subsampled-dataframe](#1.1-Create-a-subsampled-dataframe)\n",
    "\t\t* [Creating responses](#Creating-responses)\n",
    "\t\t\t* [1.2 Create a `responses` column to classify reviews as positive or negative](#1.2-Create-a-responses-column-to-classify-reviews-as-positive-or-negative)\n",
    "\t\t* [Natural Language processing](#Natural-Language-processing)\n",
    "\t\t\t* [Parsing language](#Parsing-language)\n",
    "\t\t\t* [1.3 Run `get_parts` on the `text` column of the dataframe](#1.3-Run-get_parts-on-the-text-column-of-the-dataframe)\n",
    "\t* [2. Getting the nouns and doing LDA](#2.-Getting-the-nouns-and-doing-LDA)\n",
    "\t\t* [Why LDA on nouns?](#Why-LDA-on-nouns?)\n",
    "\t\t\t* [Creating the vocabulary](#Creating-the-vocabulary)\n",
    "\t\t\t* [2.1 Create a Corpus in bag of words form](#2.1-Create-a-Corpus-in-bag-of-words-form)\n",
    "\t\t* [Unsupervised topic extraction with LDA](#Unsupervised-topic-extraction-with-LDA)\n",
    "\t\t\t* [2.2 Carry out LDA](#2.2-Carry-out-LDA)\n",
    "\t\t\t* [2.3 Interpret the topics you get with LDA](#2.3-Interpret-the-topics-you-get-with-LDA)\n",
    "\t* [3. Supervised sentiment analysis with Naive Bayes](#3.-Supervised-sentiment-analysis-with-Naive-Bayes)\n",
    "\t\t* [Getting the adjectives](#Getting-the-adjectives)\n",
    "\t\t\t* [3.1 Create the vocabulary of adjectives for the Naive Bayes Classifier.](#3.1-Create-the-vocabulary-of-adjectives-for-the-Naive-Bayes-Classifier.)\n",
    "\t\t* [Get the adjective \"features\" and responses, training and test sets](#Get-the-adjective-\"features\"-and-responses,-training-and-test-sets)\n",
    "\t\t\t* [Transforming to Bag-Of-Words representation](#Transforming-to-Bag-Of-Words-representation)\n",
    "\t\t* [Support code to run a Naive Bayes Classifier.](#Support-code-to-run-a-Naive-Bayes-Classifier.)\n",
    "\t\t\t* [3.2 Write a custom score function, log-likelihood](#3.2-Write-a-custom-score-function,-log-likelihood)\n",
    "\t\t\t* [Cross-Validation](#Cross-Validation)\n",
    "\t\t\t* [Calibration of a classifier](#Calibration-of-a-classifier)\n",
    "\t\t\t* [3.3 Write a custom cross-validation loop](#3.3-Write-a-custom-cross-validation-loop)\n",
    "\t\t\t* [3.4 Test time!](#3.4-Test-time!)\n",
    "\t* [4. Putting topics and sentiment analysis together](#4.-Putting-topics-and-sentiment-analysis-together)\n",
    "\t\t* [Naive Bayes Probabilities](#Naive-Bayes-Probabilities)\n",
    "\t\t\t* [4.1 Obtain log-probabilities for the adjectives](#4.1-Obtain-log-probabilities-for-the-adjectives)\n",
    "\t\t\t* [4.2 Write a function to compute the probability that a sentence is positive.](#4.2-Write-a-function-to-compute-the-probability-that-a-sentence-is-positive.)\n",
    "\t\t\t* [Compute the topic for a sentence](#Compute-the-topic-for-a-sentence)\n",
    "\t\t\t* [Create a dataframe with all of this information](#Create-a-dataframe-with-all-of-this-information)\n",
    "\t\t\t* [4.3 Get the stats](#4.3-Get-the-stats)\n"
   ]
  },
  {
   "cell_type": "code",
   "execution_count": 1,
   "metadata": {
    "collapsed": false,
    "deletable": true,
    "editable": true
   },
   "outputs": [],
   "source": [
    "%matplotlib inline\n",
    "import numpy as np\n",
    "import scipy as sp\n",
    "import matplotlib as mpl\n",
    "import matplotlib.cm as cm\n",
    "import matplotlib.pyplot as plt\n",
    "import pandas as pd\n",
    "pd.set_option('display.width', 500)\n",
    "pd.set_option('display.max_columns', 100)\n",
    "pd.set_option('display.notebook_repr_html', True)\n",
    "import seaborn as sns\n",
    "sns.set_style(\"whitegrid\")\n",
    "sns.set_context(\"poster\")"
   ]
  },
  {
   "cell_type": "markdown",
   "metadata": {
    "deletable": true,
    "editable": true
   },
   "source": [
    "## Q1. Using Spark and Natural Language Processing to preprocess the data"
   ]
  },
  {
   "cell_type": "markdown",
   "metadata": {
    "deletable": true,
    "editable": true
   },
   "source": [
    "In this part of the homework you will use Spark to parse the restaurant reviews and extract nouns and adjectives. We will use this data later to create the topics of the reviews and do a sentiment analysis. \n",
    "\n",
    "You can use Spark here either on your laptop, directly on the mac, on the Vagrant virtual machine on mac or windows, or on AWS. Lab 8 has all the goods, and hopefully you know what to do by now since you have been going to section.\n",
    "\n",
    "NOTE: if you are running into memory problems, try removing calls to `.cache()` in Spark. This will ease some memory pressure, at the cost of taking longer to run.\n",
    "\n",
    "For this part of the homework we will run Spark . You should make sure your virtual machine has at-least 2GB of virtual memory. If you are using AWS, use a medium instance, at the very least."
   ]
  },
  {
   "cell_type": "markdown",
   "metadata": {
    "deletable": true,
    "editable": true
   },
   "source": [
    "### Setting Python packages and Spark up"
   ]
  },
  {
   "cell_type": "markdown",
   "metadata": {
    "deletable": true,
    "editable": true
   },
   "source": [
    "The first thing we have to do is setting up spark. This can be complex, so do this REALLY early on, even if you dont have time to do anything else in the homework early.\n",
    "\n",
    "You will need to make sure you have 3 packages installed:\n",
    "\n",
    "- `findspark`: `pip install findspark`.\n",
    "- `gensim`: for LDA. Use conda for this. `conda install gensim`. DO NOT use pip for this. You will find pain\n",
    "- `pattern`: for natural language processing, `pip install pattern`.\n",
    "\n",
    "Notice that below I set the full path to Anaconda python. I need to do this as I usually dont put Anaconda on my path, and thus need to provide the full path in the environment variable `PYSPARK_PYTHON`. If Anaconda is on your path, you probably wont need this. In fact, for some of you it might cause Spark to stop working, so comment it out"
   ]
  },
  {
   "cell_type": "code",
   "execution_count": 2,
   "metadata": {
    "collapsed": false,
    "deletable": true,
    "editable": true
   },
   "outputs": [],
   "source": [
    "import os\n",
    "#os.environ['PYSPARK_PYTHON'] = '/anaconda/bin/python'"
   ]
  },
  {
   "cell_type": "markdown",
   "metadata": {
    "deletable": true,
    "editable": true
   },
   "source": [
    "The next cell sets up Spark for you. Your exact incantation might be different. You might not need `findspark`. This is what I had to do.\n",
    "\n",
    "Make sure you are using Spark 1.5.0+ .  On my Mac, I use the JDK (as opposed to the JRE) from Java 8 and Spark 1.5.1."
   ]
  },
  {
   "cell_type": "code",
   "execution_count": 5,
   "metadata": {
    "collapsed": false,
    "deletable": true,
    "editable": true
   },
   "outputs": [
    {
     "name": "stdout",
     "output_type": "stream",
     "text": [
      "/usr/local/opt/apache-spark/libexec\n"
     ]
    }
   ],
   "source": [
    "import findspark\n",
    "findspark.init()\n",
    "print(findspark.find())\n",
    "# Depending on your setup you might have to change this line of code\n",
    "#findspark makes sure I dont need the below on homebrew.\n",
    "#os.environ['SPARK_HOME']=\"/usr/local/Cellar/apache-spark/1.5.1/libexec/\"\n",
    "#the below actually broke my spark, so I removed it. \n",
    "#Depending on how you started the notebook, you might need it.\n",
    "#os.environ['PYSPARK_SUBMIT_ARGS']=\"--master local pyspark --executor-memory 4g\""
   ]
  },
  {
   "cell_type": "markdown",
   "metadata": {
    "deletable": true,
    "editable": true
   },
   "source": [
    "Start up the Spark context. This is what starts java up:"
   ]
  },
  {
   "cell_type": "code",
   "execution_count": 6,
   "metadata": {
    "collapsed": false,
    "deletable": true,
    "editable": true
   },
   "outputs": [],
   "source": [
    "import pyspark\n",
    "conf = (pyspark.SparkConf()\n",
    "    .setMaster('local')\n",
    "    .setAppName('pyspark')\n",
    "    .set(\"spark.executor.memory\", \"2g\"))\n",
    "sc = pyspark.SparkContext(conf=conf)"
   ]
  },
  {
   "cell_type": "markdown",
   "metadata": {
    "deletable": true,
    "editable": true
   },
   "source": [
    "If you started Spark from a terminal or the ipython notebook from a terminal, you will see all kinds of logging information on the terminal. This information will tell you if something is wrong.\n",
    "\n",
    "We also want to check if the same Python is running on all the child execution processes on your machine/in the cluster. If you did this right the python version printed below from 10 different executors:"
   ]
  },
  {
   "cell_type": "code",
   "execution_count": 8,
   "metadata": {
    "collapsed": false,
    "deletable": true,
    "editable": true
   },
   "outputs": [
    {
     "data": {
      "text/plain": [
       "['3.5.3 |Anaconda custom (x86_64)| (default, Mar  6 2017, 12:15:08) \\n[GCC 4.2.1 Compatible Apple LLVM 6.0 (clang-600.0.57)]',\n",
       " '3.5.3 |Anaconda custom (x86_64)| (default, Mar  6 2017, 12:15:08) \\n[GCC 4.2.1 Compatible Apple LLVM 6.0 (clang-600.0.57)]',\n",
       " '3.5.3 |Anaconda custom (x86_64)| (default, Mar  6 2017, 12:15:08) \\n[GCC 4.2.1 Compatible Apple LLVM 6.0 (clang-600.0.57)]',\n",
       " '3.5.3 |Anaconda custom (x86_64)| (default, Mar  6 2017, 12:15:08) \\n[GCC 4.2.1 Compatible Apple LLVM 6.0 (clang-600.0.57)]',\n",
       " '3.5.3 |Anaconda custom (x86_64)| (default, Mar  6 2017, 12:15:08) \\n[GCC 4.2.1 Compatible Apple LLVM 6.0 (clang-600.0.57)]',\n",
       " '3.5.3 |Anaconda custom (x86_64)| (default, Mar  6 2017, 12:15:08) \\n[GCC 4.2.1 Compatible Apple LLVM 6.0 (clang-600.0.57)]',\n",
       " '3.5.3 |Anaconda custom (x86_64)| (default, Mar  6 2017, 12:15:08) \\n[GCC 4.2.1 Compatible Apple LLVM 6.0 (clang-600.0.57)]',\n",
       " '3.5.3 |Anaconda custom (x86_64)| (default, Mar  6 2017, 12:15:08) \\n[GCC 4.2.1 Compatible Apple LLVM 6.0 (clang-600.0.57)]',\n",
       " '3.5.3 |Anaconda custom (x86_64)| (default, Mar  6 2017, 12:15:08) \\n[GCC 4.2.1 Compatible Apple LLVM 6.0 (clang-600.0.57)]',\n",
       " '3.5.3 |Anaconda custom (x86_64)| (default, Mar  6 2017, 12:15:08) \\n[GCC 4.2.1 Compatible Apple LLVM 6.0 (clang-600.0.57)]']"
      ]
     },
     "execution_count": 8,
     "metadata": {},
     "output_type": "execute_result"
    }
   ],
   "source": [
    "import sys\n",
    "rdd = sc.parallelize(range(10),10)\n",
    "rdd.map(lambda x: sys.version).collect()"
   ]
  },
  {
   "cell_type": "markdown",
   "metadata": {
    "deletable": true,
    "editable": true
   },
   "source": [
    "ought tomatch the one here:"
   ]
  },
  {
   "cell_type": "code",
   "execution_count": 9,
   "metadata": {
    "collapsed": false,
    "deletable": true,
    "editable": true
   },
   "outputs": [
    {
     "data": {
      "text/plain": [
       "'3.5.3 |Anaconda custom (x86_64)| (default, Mar  6 2017, 12:15:08) \\n[GCC 4.2.1 Compatible Apple LLVM 6.0 (clang-600.0.57)]'"
      ]
     },
     "execution_count": 9,
     "metadata": {},
     "output_type": "execute_result"
    }
   ],
   "source": [
    "sys.version"
   ]
  },
  {
   "cell_type": "markdown",
   "metadata": {
    "deletable": true,
    "editable": true
   },
   "source": [
    "### Reading in the data"
   ]
  },
  {
   "cell_type": "markdown",
   "metadata": {
    "deletable": true,
    "editable": true
   },
   "source": [
    "We create a `SQLContext` from our Spark Context so that we can use Spark's dataframe support."
   ]
  },
  {
   "cell_type": "code",
   "execution_count": 10,
   "metadata": {
    "collapsed": true,
    "deletable": true,
    "editable": true
   },
   "outputs": [],
   "source": [
    "from pyspark.sql import SQLContext\n",
    "sqlsc=SQLContext(sc)"
   ]
  },
  {
   "cell_type": "markdown",
   "metadata": {
    "deletable": true,
    "editable": true
   },
   "source": [
    "The file is available at https://s3.amazonaws.com/cs109-2015/restaurants.jsonl or https://dl.dropboxusercontent.com/u/75194/restaurants.jsonl . Download it to your local machine or onto AWS. You might find the command-line (terminal) programs `wget` or `curl` useful. The file is about 900MB large.\n",
    "\n",
    "We use the SQL Context to read our data file in. The data file is a list of json dictionaries, one per line (thus we gave the file the extension _`.jsonl`_), \n",
    "which each correspond to a row in the dataframe.\n",
    "\n",
    "Copy the file somewhere on your path and read it in like below:"
   ]
  },
  {
   "cell_type": "code",
   "execution_count": 11,
   "metadata": {
    "collapsed": false,
    "deletable": true,
    "editable": true
   },
   "outputs": [
    {
     "ename": "Py4JJavaError",
     "evalue": "An error occurred while calling o30.json.\n: java.io.IOException: No input paths specified in job\n\tat org.apache.hadoop.mapred.FileInputFormat.listStatus(FileInputFormat.java:201)\n\tat org.apache.hadoop.mapred.FileInputFormat.getSplits(FileInputFormat.java:313)\n\tat org.apache.spark.rdd.HadoopRDD.getPartitions(HadoopRDD.scala:199)\n\tat org.apache.spark.rdd.RDD$$anonfun$partitions$2.apply(RDD.scala:239)\n\tat org.apache.spark.rdd.RDD$$anonfun$partitions$2.apply(RDD.scala:237)\n\tat scala.Option.getOrElse(Option.scala:120)\n\tat org.apache.spark.rdd.RDD.partitions(RDD.scala:237)\n\tat org.apache.spark.rdd.MapPartitionsRDD.getPartitions(MapPartitionsRDD.scala:35)\n\tat org.apache.spark.rdd.RDD$$anonfun$partitions$2.apply(RDD.scala:239)\n\tat org.apache.spark.rdd.RDD$$anonfun$partitions$2.apply(RDD.scala:237)\n\tat scala.Option.getOrElse(Option.scala:120)\n\tat org.apache.spark.rdd.RDD.partitions(RDD.scala:237)\n\tat org.apache.spark.rdd.MapPartitionsRDD.getPartitions(MapPartitionsRDD.scala:35)\n\tat org.apache.spark.rdd.RDD$$anonfun$partitions$2.apply(RDD.scala:239)\n\tat org.apache.spark.rdd.RDD$$anonfun$partitions$2.apply(RDD.scala:237)\n\tat scala.Option.getOrElse(Option.scala:120)\n\tat org.apache.spark.rdd.RDD.partitions(RDD.scala:237)\n\tat org.apache.spark.rdd.RDD$$anonfun$treeAggregate$1.apply(RDD.scala:1115)\n\tat org.apache.spark.rdd.RDDOperationScope$.withScope(RDDOperationScope.scala:150)\n\tat org.apache.spark.rdd.RDDOperationScope$.withScope(RDDOperationScope.scala:111)\n\tat org.apache.spark.rdd.RDD.withScope(RDD.scala:316)\n\tat org.apache.spark.rdd.RDD.treeAggregate(RDD.scala:1113)\n\tat org.apache.spark.sql.execution.datasources.json.InferSchema$.infer(InferSchema.scala:65)\n\tat org.apache.spark.sql.execution.datasources.json.JSONRelation$$anonfun$4.apply(JSONRelation.scala:114)\n\tat org.apache.spark.sql.execution.datasources.json.JSONRelation$$anonfun$4.apply(JSONRelation.scala:109)\n\tat scala.Option.getOrElse(Option.scala:120)\n\tat org.apache.spark.sql.execution.datasources.json.JSONRelation.dataSchema$lzycompute(JSONRelation.scala:109)\n\tat org.apache.spark.sql.execution.datasources.json.JSONRelation.dataSchema(JSONRelation.scala:108)\n\tat org.apache.spark.sql.sources.HadoopFsRelation.schema$lzycompute(interfaces.scala:636)\n\tat org.apache.spark.sql.sources.HadoopFsRelation.schema(interfaces.scala:635)\n\tat org.apache.spark.sql.execution.datasources.LogicalRelation.<init>(LogicalRelation.scala:37)\n\tat org.apache.spark.sql.DataFrameReader.load(DataFrameReader.scala:125)\n\tat org.apache.spark.sql.DataFrameReader.load(DataFrameReader.scala:109)\n\tat org.apache.spark.sql.DataFrameReader.json(DataFrameReader.scala:244)\n\tat sun.reflect.NativeMethodAccessorImpl.invoke0(Native Method)\n\tat sun.reflect.NativeMethodAccessorImpl.invoke(NativeMethodAccessorImpl.java:62)\n\tat sun.reflect.DelegatingMethodAccessorImpl.invoke(DelegatingMethodAccessorImpl.java:43)\n\tat java.lang.reflect.Method.invoke(Method.java:497)\n\tat py4j.reflection.MethodInvoker.invoke(MethodInvoker.java:231)\n\tat py4j.reflection.ReflectionEngine.invoke(ReflectionEngine.java:381)\n\tat py4j.Gateway.invoke(Gateway.java:259)\n\tat py4j.commands.AbstractCommand.invokeMethod(AbstractCommand.java:133)\n\tat py4j.commands.CallCommand.execute(CallCommand.java:79)\n\tat py4j.GatewayConnection.run(GatewayConnection.java:209)\n\tat java.lang.Thread.run(Thread.java:745)\n",
     "output_type": "error",
     "traceback": [
      "\u001b[0;31m----------------------------------------------------------------------\u001b[0m",
      "\u001b[0;31mPy4JJavaError\u001b[0m                        Traceback (most recent call last)",
      "\u001b[0;32m<ipython-input-11-b12b1115892e>\u001b[0m in \u001b[0;36m<module>\u001b[0;34m()\u001b[0m\n\u001b[0;32m----> 1\u001b[0;31m \u001b[0mrevdf\u001b[0m \u001b[0;34m=\u001b[0m \u001b[0msqlsc\u001b[0m\u001b[0;34m.\u001b[0m\u001b[0mread\u001b[0m\u001b[0;34m.\u001b[0m\u001b[0mjson\u001b[0m\u001b[0;34m(\u001b[0m\u001b[0;34m\"restaurants.jsonl\"\u001b[0m\u001b[0;34m)\u001b[0m\u001b[0;34m\u001b[0m\u001b[0m\n\u001b[0m\u001b[1;32m      2\u001b[0m \u001b[0mrevdf\u001b[0m\u001b[0;34m.\u001b[0m\u001b[0mshow\u001b[0m\u001b[0;34m(\u001b[0m\u001b[0;36m5\u001b[0m\u001b[0;34m)\u001b[0m\u001b[0;34m\u001b[0m\u001b[0m\n",
      "\u001b[0;32m/usr/local/opt/apache-spark/libexec/python/pyspark/sql/readwriter.py\u001b[0m in \u001b[0;36mjson\u001b[0;34m(self, path, schema)\u001b[0m\n\u001b[1;32m    174\u001b[0m             \u001b[0mself\u001b[0m\u001b[0;34m.\u001b[0m\u001b[0mschema\u001b[0m\u001b[0;34m(\u001b[0m\u001b[0mschema\u001b[0m\u001b[0;34m)\u001b[0m\u001b[0;34m\u001b[0m\u001b[0m\n\u001b[1;32m    175\u001b[0m         \u001b[0;32mif\u001b[0m \u001b[0misinstance\u001b[0m\u001b[0;34m(\u001b[0m\u001b[0mpath\u001b[0m\u001b[0;34m,\u001b[0m \u001b[0mbasestring\u001b[0m\u001b[0;34m)\u001b[0m\u001b[0;34m:\u001b[0m\u001b[0;34m\u001b[0m\u001b[0m\n\u001b[0;32m--> 176\u001b[0;31m             \u001b[0;32mreturn\u001b[0m \u001b[0mself\u001b[0m\u001b[0;34m.\u001b[0m\u001b[0m_df\u001b[0m\u001b[0;34m(\u001b[0m\u001b[0mself\u001b[0m\u001b[0;34m.\u001b[0m\u001b[0m_jreader\u001b[0m\u001b[0;34m.\u001b[0m\u001b[0mjson\u001b[0m\u001b[0;34m(\u001b[0m\u001b[0mpath\u001b[0m\u001b[0;34m)\u001b[0m\u001b[0;34m)\u001b[0m\u001b[0;34m\u001b[0m\u001b[0m\n\u001b[0m\u001b[1;32m    177\u001b[0m         \u001b[0;32melif\u001b[0m \u001b[0mtype\u001b[0m\u001b[0;34m(\u001b[0m\u001b[0mpath\u001b[0m\u001b[0;34m)\u001b[0m \u001b[0;34m==\u001b[0m \u001b[0mlist\u001b[0m\u001b[0;34m:\u001b[0m\u001b[0;34m\u001b[0m\u001b[0m\n\u001b[1;32m    178\u001b[0m             \u001b[0;32mreturn\u001b[0m \u001b[0mself\u001b[0m\u001b[0;34m.\u001b[0m\u001b[0m_df\u001b[0m\u001b[0;34m(\u001b[0m\u001b[0mself\u001b[0m\u001b[0;34m.\u001b[0m\u001b[0m_jreader\u001b[0m\u001b[0;34m.\u001b[0m\u001b[0mjson\u001b[0m\u001b[0;34m(\u001b[0m\u001b[0mself\u001b[0m\u001b[0;34m.\u001b[0m\u001b[0m_sqlContext\u001b[0m\u001b[0;34m.\u001b[0m\u001b[0m_sc\u001b[0m\u001b[0;34m.\u001b[0m\u001b[0m_jvm\u001b[0m\u001b[0;34m.\u001b[0m\u001b[0mPythonUtils\u001b[0m\u001b[0;34m.\u001b[0m\u001b[0mtoSeq\u001b[0m\u001b[0;34m(\u001b[0m\u001b[0mpath\u001b[0m\u001b[0;34m)\u001b[0m\u001b[0;34m)\u001b[0m\u001b[0;34m)\u001b[0m\u001b[0;34m\u001b[0m\u001b[0m\n",
      "\u001b[0;32m/usr/local/opt/apache-spark/libexec/python/lib/py4j-0.9-src.zip/py4j/java_gateway.py\u001b[0m in \u001b[0;36m__call__\u001b[0;34m(self, *args)\u001b[0m\n\u001b[1;32m    811\u001b[0m         \u001b[0manswer\u001b[0m \u001b[0;34m=\u001b[0m \u001b[0mself\u001b[0m\u001b[0;34m.\u001b[0m\u001b[0mgateway_client\u001b[0m\u001b[0;34m.\u001b[0m\u001b[0msend_command\u001b[0m\u001b[0;34m(\u001b[0m\u001b[0mcommand\u001b[0m\u001b[0;34m)\u001b[0m\u001b[0;34m\u001b[0m\u001b[0m\n\u001b[1;32m    812\u001b[0m         return_value = get_return_value(\n\u001b[0;32m--> 813\u001b[0;31m             answer, self.gateway_client, self.target_id, self.name)\n\u001b[0m\u001b[1;32m    814\u001b[0m \u001b[0;34m\u001b[0m\u001b[0m\n\u001b[1;32m    815\u001b[0m         \u001b[0;32mfor\u001b[0m \u001b[0mtemp_arg\u001b[0m \u001b[0;32min\u001b[0m \u001b[0mtemp_args\u001b[0m\u001b[0;34m:\u001b[0m\u001b[0;34m\u001b[0m\u001b[0m\n",
      "\u001b[0;32m/usr/local/opt/apache-spark/libexec/python/pyspark/sql/utils.py\u001b[0m in \u001b[0;36mdeco\u001b[0;34m(*a, **kw)\u001b[0m\n\u001b[1;32m     43\u001b[0m     \u001b[0;32mdef\u001b[0m \u001b[0mdeco\u001b[0m\u001b[0;34m(\u001b[0m\u001b[0;34m*\u001b[0m\u001b[0ma\u001b[0m\u001b[0;34m,\u001b[0m \u001b[0;34m**\u001b[0m\u001b[0mkw\u001b[0m\u001b[0;34m)\u001b[0m\u001b[0;34m:\u001b[0m\u001b[0;34m\u001b[0m\u001b[0m\n\u001b[1;32m     44\u001b[0m         \u001b[0;32mtry\u001b[0m\u001b[0;34m:\u001b[0m\u001b[0;34m\u001b[0m\u001b[0m\n\u001b[0;32m---> 45\u001b[0;31m             \u001b[0;32mreturn\u001b[0m \u001b[0mf\u001b[0m\u001b[0;34m(\u001b[0m\u001b[0;34m*\u001b[0m\u001b[0ma\u001b[0m\u001b[0;34m,\u001b[0m \u001b[0;34m**\u001b[0m\u001b[0mkw\u001b[0m\u001b[0;34m)\u001b[0m\u001b[0;34m\u001b[0m\u001b[0m\n\u001b[0m\u001b[1;32m     46\u001b[0m         \u001b[0;32mexcept\u001b[0m \u001b[0mpy4j\u001b[0m\u001b[0;34m.\u001b[0m\u001b[0mprotocol\u001b[0m\u001b[0;34m.\u001b[0m\u001b[0mPy4JJavaError\u001b[0m \u001b[0;32mas\u001b[0m \u001b[0me\u001b[0m\u001b[0;34m:\u001b[0m\u001b[0;34m\u001b[0m\u001b[0m\n\u001b[1;32m     47\u001b[0m             \u001b[0ms\u001b[0m \u001b[0;34m=\u001b[0m \u001b[0me\u001b[0m\u001b[0;34m.\u001b[0m\u001b[0mjava_exception\u001b[0m\u001b[0;34m.\u001b[0m\u001b[0mtoString\u001b[0m\u001b[0;34m(\u001b[0m\u001b[0;34m)\u001b[0m\u001b[0;34m\u001b[0m\u001b[0m\n",
      "\u001b[0;32m/usr/local/opt/apache-spark/libexec/python/lib/py4j-0.9-src.zip/py4j/protocol.py\u001b[0m in \u001b[0;36mget_return_value\u001b[0;34m(answer, gateway_client, target_id, name)\u001b[0m\n\u001b[1;32m    306\u001b[0m                 raise Py4JJavaError(\n\u001b[1;32m    307\u001b[0m                     \u001b[0;34m\"An error occurred while calling {0}{1}{2}.\\n\"\u001b[0m\u001b[0;34m.\u001b[0m\u001b[0;34m\u001b[0m\u001b[0m\n\u001b[0;32m--> 308\u001b[0;31m                     format(target_id, \".\", name), value)\n\u001b[0m\u001b[1;32m    309\u001b[0m             \u001b[0;32melse\u001b[0m\u001b[0;34m:\u001b[0m\u001b[0;34m\u001b[0m\u001b[0m\n\u001b[1;32m    310\u001b[0m                 raise Py4JError(\n",
      "\u001b[0;31mPy4JJavaError\u001b[0m: An error occurred while calling o30.json.\n: java.io.IOException: No input paths specified in job\n\tat org.apache.hadoop.mapred.FileInputFormat.listStatus(FileInputFormat.java:201)\n\tat org.apache.hadoop.mapred.FileInputFormat.getSplits(FileInputFormat.java:313)\n\tat org.apache.spark.rdd.HadoopRDD.getPartitions(HadoopRDD.scala:199)\n\tat org.apache.spark.rdd.RDD$$anonfun$partitions$2.apply(RDD.scala:239)\n\tat org.apache.spark.rdd.RDD$$anonfun$partitions$2.apply(RDD.scala:237)\n\tat scala.Option.getOrElse(Option.scala:120)\n\tat org.apache.spark.rdd.RDD.partitions(RDD.scala:237)\n\tat org.apache.spark.rdd.MapPartitionsRDD.getPartitions(MapPartitionsRDD.scala:35)\n\tat org.apache.spark.rdd.RDD$$anonfun$partitions$2.apply(RDD.scala:239)\n\tat org.apache.spark.rdd.RDD$$anonfun$partitions$2.apply(RDD.scala:237)\n\tat scala.Option.getOrElse(Option.scala:120)\n\tat org.apache.spark.rdd.RDD.partitions(RDD.scala:237)\n\tat org.apache.spark.rdd.MapPartitionsRDD.getPartitions(MapPartitionsRDD.scala:35)\n\tat org.apache.spark.rdd.RDD$$anonfun$partitions$2.apply(RDD.scala:239)\n\tat org.apache.spark.rdd.RDD$$anonfun$partitions$2.apply(RDD.scala:237)\n\tat scala.Option.getOrElse(Option.scala:120)\n\tat org.apache.spark.rdd.RDD.partitions(RDD.scala:237)\n\tat org.apache.spark.rdd.RDD$$anonfun$treeAggregate$1.apply(RDD.scala:1115)\n\tat org.apache.spark.rdd.RDDOperationScope$.withScope(RDDOperationScope.scala:150)\n\tat org.apache.spark.rdd.RDDOperationScope$.withScope(RDDOperationScope.scala:111)\n\tat org.apache.spark.rdd.RDD.withScope(RDD.scala:316)\n\tat org.apache.spark.rdd.RDD.treeAggregate(RDD.scala:1113)\n\tat org.apache.spark.sql.execution.datasources.json.InferSchema$.infer(InferSchema.scala:65)\n\tat org.apache.spark.sql.execution.datasources.json.JSONRelation$$anonfun$4.apply(JSONRelation.scala:114)\n\tat org.apache.spark.sql.execution.datasources.json.JSONRelation$$anonfun$4.apply(JSONRelation.scala:109)\n\tat scala.Option.getOrElse(Option.scala:120)\n\tat org.apache.spark.sql.execution.datasources.json.JSONRelation.dataSchema$lzycompute(JSONRelation.scala:109)\n\tat org.apache.spark.sql.execution.datasources.json.JSONRelation.dataSchema(JSONRelation.scala:108)\n\tat org.apache.spark.sql.sources.HadoopFsRelation.schema$lzycompute(interfaces.scala:636)\n\tat org.apache.spark.sql.sources.HadoopFsRelation.schema(interfaces.scala:635)\n\tat org.apache.spark.sql.execution.datasources.LogicalRelation.<init>(LogicalRelation.scala:37)\n\tat org.apache.spark.sql.DataFrameReader.load(DataFrameReader.scala:125)\n\tat org.apache.spark.sql.DataFrameReader.load(DataFrameReader.scala:109)\n\tat org.apache.spark.sql.DataFrameReader.json(DataFrameReader.scala:244)\n\tat sun.reflect.NativeMethodAccessorImpl.invoke0(Native Method)\n\tat sun.reflect.NativeMethodAccessorImpl.invoke(NativeMethodAccessorImpl.java:62)\n\tat sun.reflect.DelegatingMethodAccessorImpl.invoke(DelegatingMethodAccessorImpl.java:43)\n\tat java.lang.reflect.Method.invoke(Method.java:497)\n\tat py4j.reflection.MethodInvoker.invoke(MethodInvoker.java:231)\n\tat py4j.reflection.ReflectionEngine.invoke(ReflectionEngine.java:381)\n\tat py4j.Gateway.invoke(Gateway.java:259)\n\tat py4j.commands.AbstractCommand.invokeMethod(AbstractCommand.java:133)\n\tat py4j.commands.CallCommand.execute(CallCommand.java:79)\n\tat py4j.GatewayConnection.run(GatewayConnection.java:209)\n\tat java.lang.Thread.run(Thread.java:745)\n"
     ]
    }
   ],
   "source": [
    "revdf = sqlsc.read.json(\"restaurants.jsonl\")\n",
    "revdf.show(5)"
   ]
  },
  {
   "cell_type": "markdown",
   "metadata": {
    "deletable": true,
    "editable": true
   },
   "source": [
    "We look at our data by printing the schema for this table: \n",
    "Spark does this this by sampling some rows for all the columns and seeing the type."
   ]
  },
  {
   "cell_type": "code",
   "execution_count": 9,
   "metadata": {
    "collapsed": false,
    "deletable": true,
    "editable": true,
    "scrolled": false
   },
   "outputs": [
    {
     "name": "stdout",
     "output_type": "stream",
     "text": [
      "How many reviews do we have? 940600\n",
      "root\n",
      " |-- _corrupt_record: string (nullable = true)\n",
      " |-- business_avg: double (nullable = true)\n",
      " |-- business_id: string (nullable = true)\n",
      " |-- business_review_count: double (nullable = true)\n",
      " |-- date: string (nullable = true)\n",
      " |-- review_id: string (nullable = true)\n",
      " |-- stars: long (nullable = true)\n",
      " |-- text: string (nullable = true)\n",
      " |-- user_avg: double (nullable = true)\n",
      " |-- user_id: string (nullable = true)\n",
      " |-- user_review_count: double (nullable = true)\n",
      "\n"
     ]
    }
   ],
   "source": [
    "#We cache the data to make sure it is only read once from disk\n",
    "revdf.cache()\n",
    "print \"How many reviews do we have?\", revdf.count()\n",
    "revdf.printSchema()"
   ]
  },
  {
   "cell_type": "markdown",
   "metadata": {
    "deletable": true,
    "editable": true
   },
   "source": [
    "We now create a dataframe which has only those restaurants that have more than 10 reviews. The reason to do this is that we'll be gaining information from individual reviews. This information can be quite disparate. And thus we want enough reviews to get some statistically significant middle ground.\n",
    "\n",
    "At this point you might object: isn't the whole point of reviews and recommendations that users are different, so that middle ground is hard to find. In the last homework even our baseline models took user bias into account. \n",
    "\n",
    "Here though our hypothesis is different: we assume that **people will use similar adjectives to describe a good experience, no matter what star rating they give it**. So, we will be ok as long as the definition of \"good\", \"excellent\", \"poor\" takes into account the user bias."
   ]
  },
  {
   "cell_type": "code",
   "execution_count": 10,
   "metadata": {
    "collapsed": false,
    "deletable": true,
    "editable": true
   },
   "outputs": [],
   "source": [
    "bizcounts=revdf.groupby('business_id').count()\n",
    "bizids = (bizcounts[bizcounts['count'] > 10]\n",
    "          .map(lambda r: r.business_id)\n",
    "          .collect()\n",
    "          )"
   ]
  },
  {
   "cell_type": "code",
   "execution_count": 11,
   "metadata": {
    "collapsed": false,
    "deletable": true,
    "editable": true
   },
   "outputs": [
    {
     "name": "stdout",
     "output_type": "stream",
     "text": [
      "How many businesses are we left with?  11417\n"
     ]
    }
   ],
   "source": [
    "print \"How many businesses are we left with? \", len(bizids)"
   ]
  },
  {
   "cell_type": "markdown",
   "metadata": {
    "deletable": true,
    "editable": true
   },
   "source": [
    "Notice that the command below creates a new dataframe as dataframes in Spark are immutable. (Remember, in Pandas too, unless we used `inplace=True` we returned a new dataframe from most operations (except queries which returned views))."
   ]
  },
  {
   "cell_type": "code",
   "execution_count": 12,
   "metadata": {
    "collapsed": false,
    "deletable": true,
    "editable": true
   },
   "outputs": [],
   "source": [
    "revdf_small=revdf[revdf.business_id.isin(bizids)]#creates new dataframe"
   ]
  },
  {
   "cell_type": "markdown",
   "metadata": {
    "deletable": true,
    "editable": true
   },
   "source": [
    "Now we count how many reviews we have left in total across all restaurants."
   ]
  },
  {
   "cell_type": "code",
   "execution_count": 13,
   "metadata": {
    "collapsed": false,
    "deletable": true,
    "editable": true
   },
   "outputs": [
    {
     "name": "stdout",
     "output_type": "stream",
     "text": [
      "Number of total reviews:  905600\n"
     ]
    }
   ],
   "source": [
    "print \"Number of total reviews: \", revdf_small.count()#actually causes the subselect to happen"
   ]
  },
  {
   "cell_type": "markdown",
   "metadata": {
    "deletable": true,
    "editable": true
   },
   "source": [
    "Remember RDD operations (Dataframes are just a layer over RDD) are lazy in Spark. So what happens here is that the actual subselection only happens on the `.count()`, at which point the data is cached as well. "
   ]
  },
  {
   "cell_type": "markdown",
   "metadata": {
    "deletable": true,
    "editable": true
   },
   "source": [
    "### Sub-sampling the data"
   ]
  },
  {
   "cell_type": "markdown",
   "metadata": {
    "deletable": true,
    "editable": true
   },
   "source": [
    "As you might have noticed, there are almost a million records in this dataframe. Doing our analysis on such a large dataframe might bust past the java heap space on our individual machines. \n",
    "\n",
    "My modus operandi is to always start with a small data set. My code initially tends to almost always be wrong: its much easier to deal with this if you have small datasets. I also like to use functions like `take(5)` in Spark: this gives me a quick sanity check of the output to see if it makes any sense."
   ]
  },
  {
   "cell_type": "markdown",
   "metadata": {
    "deletable": true,
    "editable": true
   },
   "source": [
    "#### 1.1 Create a subsampled-dataframe"
   ]
  },
  {
   "cell_type": "markdown",
   "metadata": {
    "deletable": true,
    "editable": true
   },
   "source": [
    "With this in mind, we'll create a sub-sampled dataframe where we have 8 reviews per restaurant. We create a variable `PER_RESTAURANT_SAMPLES` to store this number."
   ]
  },
  {
   "cell_type": "code",
   "execution_count": 14,
   "metadata": {
    "collapsed": true,
    "deletable": true,
    "editable": true
   },
   "outputs": [],
   "source": [
    "PER_RESTAURANT_SAMPLES=8"
   ]
  },
  {
   "cell_type": "markdown",
   "metadata": {
    "deletable": true,
    "editable": true
   },
   "source": [
    "Write code that randomly subsamples `PER_RESTAURANT_SAMPLES` reviews for each restaurant. \n",
    "\n",
    "First get a python list of all the review_id's in this smaller sample"
   ]
  },
  {
   "cell_type": "code",
   "execution_count": 15,
   "metadata": {
    "collapsed": false,
    "deletable": true,
    "editable": true
   },
   "outputs": [],
   "source": [
    "pairs = revdf_small.map(lambda x: (x.business_id,x.review_id))"
   ]
  },
  {
   "cell_type": "code",
   "execution_count": 16,
   "metadata": {
    "collapsed": false,
    "deletable": true,
    "editable": true
   },
   "outputs": [],
   "source": [
    "grouped_pairs = pairs.groupByKey()\n",
    "smaller_pairs = grouped_pairs.flatMapValues(lambda x: np.random.choice(list(x),size=PER_RESTAURANT_SAMPLES,replace=False))\n",
    "review_ids_smaller = smaller_pairs.values().collect()"
   ]
  },
  {
   "cell_type": "markdown",
   "metadata": {
    "deletable": true,
    "editable": true
   },
   "source": [
    "Then use this smaller sample and the Spark method `isin` to create a smaller Spark dataframe `subdf`."
   ]
  },
  {
   "cell_type": "code",
   "execution_count": 17,
   "metadata": {
    "collapsed": false,
    "deletable": true,
    "editable": true
   },
   "outputs": [],
   "source": [
    "#your code here\n",
    "subdf = revdf_small[revdf_small.review_id.isin(review_ids_smaller)]"
   ]
  },
  {
   "cell_type": "markdown",
   "metadata": {
    "deletable": true,
    "editable": true
   },
   "source": [
    "Lets cache the dataframe and see how many reviews we have."
   ]
  },
  {
   "cell_type": "code",
   "execution_count": 18,
   "metadata": {
    "collapsed": false,
    "deletable": true,
    "editable": true
   },
   "outputs": [
    {
     "data": {
      "text/plain": [
       "91336"
      ]
     },
     "execution_count": 18,
     "metadata": {},
     "output_type": "execute_result"
    }
   ],
   "source": [
    "subdf.cache()\n",
    "subdf.count()"
   ]
  },
  {
   "cell_type": "markdown",
   "metadata": {
    "deletable": true,
    "editable": true
   },
   "source": [
    "You should have about 91000 reviews."
   ]
  },
  {
   "cell_type": "markdown",
   "metadata": {
    "deletable": true,
    "editable": true
   },
   "source": [
    "### Creating responses"
   ]
  },
  {
   "cell_type": "markdown",
   "metadata": {
    "deletable": true,
    "editable": true
   },
   "source": [
    "#### 1.2 Create a `responses` column to classify reviews as positive or negative"
   ]
  },
  {
   "cell_type": "markdown",
   "metadata": {
    "deletable": true,
    "editable": true
   },
   "source": [
    "Remember how we said that we wanted to take into account the user bias in our measures of whether a review was a \"positive\" review or a \"negative\" review?\n",
    "\n",
    "We can do this by asking if the star rating of a user's review is higher or equal to the user's average rating. This may not be the best choice: I found that users use \"good\" adjectives to describe restaurants below their average rating. Something worth playing with and thinking about later.m\n",
    "\n",
    "Add a new column `responses` to our dataframe (remember this will create a new dataframe in Spark, as opposed to the usual behavior in Pandas, see the docs for `withColumn` method on Spark Dataframes). Assign this new dataframe to the same variable `subdf`.\n",
    "Also store the data from the `responses` column in an extra array `resparray`.\n",
    "\n",
    "The `responses` column will be `true` if the star rating of a user's review is greater than or equal to the user average rating."
   ]
  },
  {
   "cell_type": "code",
   "execution_count": 19,
   "metadata": {
    "collapsed": false,
    "deletable": true,
    "editable": true
   },
   "outputs": [
    {
     "data": {
      "text/plain": [
       "<bound method DataFrame.show of DataFrame[_corrupt_record: string, business_avg: double, business_id: string, business_review_count: double, date: string, review_id: string, stars: bigint, text: string, user_avg: double, user_id: string, user_review_count: double]>"
      ]
     },
     "execution_count": 19,
     "metadata": {},
     "output_type": "execute_result"
    }
   ],
   "source": [
    "subdf.show"
   ]
  },
  {
   "cell_type": "code",
   "execution_count": 20,
   "metadata": {
    "collapsed": false,
    "deletable": true,
    "editable": true
   },
   "outputs": [],
   "source": [
    "#your code here\n",
    "subdf = subdf.withColumn('responses',subdf.stars>=subdf.user_avg)"
   ]
  },
  {
   "cell_type": "code",
   "execution_count": 21,
   "metadata": {
    "collapsed": false,
    "deletable": true,
    "editable": true
   },
   "outputs": [],
   "source": [
    "resparray = subdf.map(lambda x: x.responses).collect()"
   ]
  },
  {
   "cell_type": "markdown",
   "metadata": {
    "deletable": true,
    "editable": true
   },
   "source": [
    "Let's see what our `subdf` looks like. You should see an additional column `responses` with `true`s and `false`s. (Dont get confused with the lower case trues and falses...its Spark's internal representation)."
   ]
  },
  {
   "cell_type": "code",
   "execution_count": 22,
   "metadata": {
    "collapsed": false,
    "deletable": true,
    "editable": true
   },
   "outputs": [
    {
     "name": "stdout",
     "output_type": "stream",
     "text": [
      "+---------------+-------------+--------------------+---------------------+----------+--------------------+-----+--------------------+------------------+--------------------+-----------------+---------+\n",
      "|_corrupt_record| business_avg|         business_id|business_review_count|      date|           review_id|stars|                text|          user_avg|             user_id|user_review_count|responses|\n",
      "+---------------+-------------+--------------------+---------------------+----------+--------------------+-----+--------------------+------------------+--------------------+-----------------+---------+\n",
      "|           null|3.91666666667|KayYbHCt-RkbGcPdG...|                 12.0|2011-08-15|2xCds3bp0wM6nHMz3...|    4|Alexion's has bee...|               3.6|4-3IU5uUH90m21TWb...|             20.0|     true|\n",
      "|           null|3.91666666667|KayYbHCt-RkbGcPdG...|                 12.0|2011-12-22|UrukGX1emhSRe2fGd...|    3|Good for cheap dr...|3.7368421052599996|bcwr1bFov3PSa1FiG...|             19.0|    false|\n",
      "|           null|3.91666666667|KayYbHCt-RkbGcPdG...|                 12.0|2013-04-25|2_Ru_ASf75kU303rd...|    4|What a cool bar/r...|             3.125|Sjb5e5-gKoLXueFDM...|              8.0|     true|\n",
      "|           null|3.91666666667|KayYbHCt-RkbGcPdG...|                 12.0|2013-09-17|PUY1KIrW0BY9ENb3b...|    3|Good beer selecti...|               3.0|W_NfPGdpM0286WBDN...|              1.0|     true|\n",
      "|           null|3.91666666667|KayYbHCt-RkbGcPdG...|                 12.0|2014-02-16|0klMyorClST8NYGJq...|    5|Grew up near here...|               5.0|h-A_xNeB_xSbc0psq...|              2.0|     true|\n",
      "+---------------+-------------+--------------------+---------------------+----------+--------------------+-----+--------------------+------------------+--------------------+-----------------+---------+\n",
      "only showing top 5 rows\n",
      "\n"
     ]
    }
   ],
   "source": [
    "subdf.show(5)"
   ]
  },
  {
   "cell_type": "markdown",
   "metadata": {
    "deletable": true,
    "editable": true
   },
   "source": [
    "Let us calculate the prior probability of having positive samples and store it in `priorp`. We'll also calculate `priorn`, the prior probability of having negative samples."
   ]
  },
  {
   "cell_type": "code",
   "execution_count": 23,
   "metadata": {
    "collapsed": false,
    "deletable": true,
    "editable": true
   },
   "outputs": [
    {
     "data": {
      "text/plain": [
       "(0.61878120346851184, 0.38121879653148816)"
      ]
     },
     "execution_count": 23,
     "metadata": {},
     "output_type": "execute_result"
    }
   ],
   "source": [
    "priorp = np.mean(resparray)\n",
    "priorn = 1 - priorp\n",
    "priorp, priorn"
   ]
  },
  {
   "cell_type": "markdown",
   "metadata": {
    "deletable": true,
    "editable": true
   },
   "source": [
    "### Natural Language processing"
   ]
  },
  {
   "cell_type": "markdown",
   "metadata": {
    "deletable": true,
    "editable": true
   },
   "source": [
    "Our next step is to take the text of the reviews and process this text to extract grammar and semantic meaning from it.\n",
    "\n",
    "This is in general a hard problem. Machine learning models are usually only as good as the features you give them. The principle they follow is: garbage in, garbage out. \n",
    "\n",
    "Parsing text is hard. It used to be that texts in the old days had good grammatical structure, well formed sentences, and so on. With stuff being written online, many rules are broken. So for example I found some reviews with as many as 10 ellipsis dots between words!\n",
    "\n",
    "Still, we shall use some very standard sentence parsing techniques from the python library `pattern` to do our parsing. The reason for this is that our main aim is to extract nouns and adjectives. This is really a first attempt, and if you are doing sentiment analysis or other text analysis on your project you should investigate better, more robust techniques if you need them.\n",
    "\n",
    "We create a list of what we consider punctuation below, and obtain our stopwords from the `sklearn` stopwords list."
   ]
  },
  {
   "cell_type": "code",
   "execution_count": 24,
   "metadata": {
    "collapsed": true,
    "deletable": true,
    "editable": true
   },
   "outputs": [],
   "source": [
    "from pattern.en import parse\n",
    "from pattern.en import pprint\n",
    "from pattern.vector import stem, PORTER, LEMMA\n",
    "punctuation = list('.,;:!?()[]{}`''\\\"@#$^&*+-|=~_')"
   ]
  },
  {
   "cell_type": "code",
   "execution_count": 25,
   "metadata": {
    "collapsed": true,
    "deletable": true,
    "editable": true
   },
   "outputs": [],
   "source": [
    "from sklearn.feature_extraction import text \n",
    "stopwords=text.ENGLISH_STOP_WORDS"
   ]
  },
  {
   "cell_type": "markdown",
   "metadata": {
    "deletable": true,
    "editable": true
   },
   "source": [
    "#### Parsing language"
   ]
  },
  {
   "cell_type": "markdown",
   "metadata": {
    "deletable": true,
    "editable": true
   },
   "source": [
    "Pay attention to this function as it provides an example of the kind of cleaning that needs to be done with text. We dont do a particularly sophisticated job here, but its simple and illustrative for the purposes of a homework. You will want to do a more thorough job on your project."
   ]
  },
  {
   "cell_type": "code",
   "execution_count": 26,
   "metadata": {
    "collapsed": true,
    "deletable": true,
    "editable": true
   },
   "outputs": [],
   "source": [
    "import re\n",
    "regex1=re.compile(r\"\\.{2,}\")\n",
    "regex2=re.compile(r\"\\-{2,}\")"
   ]
  },
  {
   "cell_type": "markdown",
   "metadata": {
    "deletable": true,
    "editable": true
   },
   "source": [
    "Above we compile two regular expressions we will use. The first matched two or more dots in an ellipsis, while the second matches too or more dashes. We'll assume a single dot is a sentence separator while an single dash means a hyphenated word which is important to keep.\n",
    "\n",
    "Note that it is important for us to preserve sentence structure here as we intend to utilize it to extract nouns and adjectives. It might even be better to compare against lists of known nouns and adverbs, but then one might miss grammatical structure in which nouns are used like adjectives and vice versa. Its all worth playing with.\n",
    "\n",
    "The function `get_parts` below takes in an input review and returns a tuple of nouns and adjectives. Each member of the tuple is a list of lists. For instance the first member is a list, whose members are lists of nouns. Each such member is mined from a sentence. Some sentences will not have any representation as they dont pass the battery of conditions we impose below. Indeed if any sentence has no adjectives or no nouns we remove it. The idea eventually is to treat each such sentence as a review, with the nouns used to find the topic (using LDA), and the adjectives used to do sentiment analysis (via Naive Bayes).\n",
    "\n",
    "`get_parts` does the following:\n",
    "\n",
    "- First we substitute anything more than two dots or two dashes by a space so the letters on either side are treated as separate words\n",
    "- Then we use pattern to parse the text into sentences. The sentences are tokenized into words, and lemmatized, which means that we convert words into their basic form, for [example](https://github.com/piskvorky/topic_modeling_tutorial/blob/master/1%20-%20Streamed%20Corpora.ipynb):\n",
    "\n",
    "> \"work\", \"working\", \"works\", \"worked\", \"working\" => same lemma: \"work\"\n",
    "\n",
    "- The words are associated with tags from the [Penn Treebank](http://www.clips.ua.ac.be/pages/mbsp-tags) in the parse process. This enables us to identify parts-of-speech."
   ]
  },
  {
   "cell_type": "code",
   "execution_count": 27,
   "metadata": {
    "collapsed": false,
    "deletable": true,
    "editable": true
   },
   "outputs": [
    {
     "data": {
      "text/plain": [
       "u'The/DT/B-NP/O/the world/NN/I-NP/O/world is/VBZ/B-VP/O/be the/DT/B-NP/O/the craziest/JJ/I-NP/O/craziest place/NN/I-NP/O/place ././O/O/.\\nI/PRP/B-NP/O/i am/VBP/B-VP/O/be working/VBG/I-VP/O/work hard/RB/B-ADVP/O/hard ././O/O/.'"
      ]
     },
     "execution_count": 27,
     "metadata": {},
     "output_type": "execute_result"
    }
   ],
   "source": [
    "parse(\"The world is the craziest place. I am working hard.\", tokenize=True, lemmata=True)"
   ]
  },
  {
   "cell_type": "markdown",
   "metadata": {
    "deletable": true,
    "editable": true
   },
   "source": [
    "See the page linked above to interpret what the various annotations mean."
   ]
  },
  {
   "cell_type": "markdown",
   "metadata": {
    "deletable": true,
    "editable": true
   },
   "source": [
    "- We then match for adjectives and nouns separately. While doing this we make sure that the word in question is not a stopword, does not start or end with punctuation, or is not a single letter word.\n",
    "- This gives us pairs of lists of nouns and adjectives from each sentence. If any one of these lists in the pair is empty, we throw the sentence away, because we dont have enough information to process the sentence."
   ]
  },
  {
   "cell_type": "code",
   "execution_count": 28,
   "metadata": {
    "collapsed": false,
    "deletable": true,
    "editable": true
   },
   "outputs": [],
   "source": [
    "def get_parts(thetext):\n",
    "    thetext=re.sub(regex1, ' ', thetext)\n",
    "    thetext=re.sub(regex2, ' ', thetext)\n",
    "    nouns=[]\n",
    "    descriptives=[]\n",
    "    for i,sentence in enumerate(parse(thetext, tokenize=True, lemmata=True).split()):\n",
    "        nouns.append([])\n",
    "        descriptives.append([])\n",
    "        for token in sentence:\n",
    "            #print token\n",
    "            if len(token[4]) >0:\n",
    "                if token[1] in ['JJ', 'JJR', 'JJS']:\n",
    "                    if token[4] in stopwords or token[4][0] in punctuation or token[4][-1] in punctuation or len(token[4])==1:\n",
    "                        continue\n",
    "                    descriptives[i].append(token[4])\n",
    "                elif token[1] in ['NN', 'NNS']:\n",
    "                    if token[4] in stopwords or token[4][0] in punctuation or token[4][-1] in punctuation or len(token[4])==1:\n",
    "                        continue\n",
    "                    nouns[i].append(token[4])\n",
    "    out=zip(nouns, descriptives)\n",
    "    nouns2=[]\n",
    "    descriptives2=[]\n",
    "    for n,d in out:\n",
    "        if len(n)!=0 and len(d)!=0:\n",
    "            nouns2.append(n)\n",
    "            descriptives2.append(d)\n",
    "    return nouns2, descriptives2"
   ]
  },
  {
   "cell_type": "markdown",
   "metadata": {
    "deletable": true,
    "editable": true
   },
   "source": [
    "Here is a diagram that shows the process.\n",
    "\n",
    "<img src=\"nlp.jpg\" width=800 height=500/>\n",
    "\n",
    "Here is a brief toy example to demonstrate how `get_parts` works:"
   ]
  },
  {
   "cell_type": "code",
   "execution_count": 29,
   "metadata": {
    "collapsed": false,
    "deletable": true,
    "editable": true
   },
   "outputs": [
    {
     "data": {
      "text/plain": [
       "([[u'patio', u'job'], [u'lunch', u'egg']], [[u'perfect'], [u'good', u'great']])"
      ]
     },
     "execution_count": 29,
     "metadata": {},
     "output_type": "execute_result"
    }
   ],
   "source": [
    "get_parts(\"Have had many other items and just love the food. The patio...job was and...perfect. Lunch is good, and the only egg is great\")"
   ]
  },
  {
   "cell_type": "markdown",
   "metadata": {
    "deletable": true,
    "editable": true
   },
   "source": [
    "#### 1.3 Run `get_parts` on the `text` column of the dataframe"
   ]
  },
  {
   "cell_type": "markdown",
   "metadata": {
    "deletable": true,
    "editable": true
   },
   "source": [
    "Use Spark's `map` to run this function on the contents of the text column of every row of the dataframe. Store the lazy RDD in `review_parts`. (This should be one line of code)"
   ]
  },
  {
   "cell_type": "code",
   "execution_count": 82,
   "metadata": {
    "collapsed": false,
    "deletable": true,
    "editable": true
   },
   "outputs": [],
   "source": [
    "#your code here\n",
    "review_parts = subdf.map(lambda x: get_parts(x.text))"
   ]
  },
  {
   "cell_type": "markdown",
   "metadata": {
    "deletable": true,
    "editable": true
   },
   "source": [
    "We'll `take` the first three to see what our code looks like. This way we dont have to wait for everything to run."
   ]
  },
  {
   "cell_type": "code",
   "execution_count": 31,
   "metadata": {
    "collapsed": false,
    "deletable": true,
    "editable": true
   },
   "outputs": [
    {
     "data": {
      "text/plain": [
       "[([[u'time',\n",
       "    u'year',\n",
       "    u'summer',\n",
       "    u'break',\n",
       "    u'college',\n",
       "    u'working',\n",
       "    u'ice',\n",
       "    u'cream',\n",
       "    u'factory',\n",
       "    u'hill'],\n",
       "   [u'year', u'memory', u'customer'],\n",
       "   [u'sandwiches', u'pittsburgh-style', u'sort', u'today', u'time', u'place'],\n",
       "   [u'place', u'town'],\n",
       "   [u'sandwich', u'hour'],\n",
       "   [u'thing', u'place', u'home']],\n",
       "  [[u'old'],\n",
       "   [u'fond'],\n",
       "   [u'perfect', u'ancient'],\n",
       "   [u'clean', u'peaceful', u'little', u'oldest'],\n",
       "   [u'pretty', u'late'],\n",
       "   [u'good', u'closer']]),\n",
       " ([[u'drink', u'wing', u'special'],\n",
       "   [u'inside', u'bartender', u'job'],\n",
       "   [u'selection', u'alcohol'],\n",
       "   [u'wing', u'salad'],\n",
       "   [u'gluten', u'place', u'lot', u'food', u'sandwich'],\n",
       "   [u'lunch']],\n",
       "  [[u'cheap', u'daily', u'nice'],\n",
       "   [u'like', u'outside', u'friendly', u'good'],\n",
       "   [u'huge'],\n",
       "   [u'good'],\n",
       "   [u'free', u'fried'],\n",
       "   [u'quick']]),\n",
       " ([[u'service', u'price', u'restroom'],\n",
       "   [u'buffalo', u'chicken', u'sandwich'],\n",
       "   [u'menu', u'bar', u'food', u'food', u'item', u'menu'],\n",
       "   [u'bar', u'path', u'worth', u'trip']],\n",
       "  [[u'great', u'clean'],\n",
       "   [u'delicious'],\n",
       "   [u'typical', u'different'],\n",
       "   [u'cool', u'beaten']])]"
      ]
     },
     "execution_count": 31,
     "metadata": {},
     "output_type": "execute_result"
    }
   ],
   "source": [
    "review_parts.take(3)"
   ]
  },
  {
   "cell_type": "markdown",
   "metadata": {
    "deletable": true,
    "editable": true
   },
   "source": [
    "We use `collect` to collect in a python list all of our results. This is where the computation actually takes place. This function took me between 20-30 mins to run."
   ]
  },
  {
   "cell_type": "code",
   "execution_count": 32,
   "metadata": {
    "collapsed": false,
    "deletable": true,
    "editable": true
   },
   "outputs": [
    {
     "name": "stdout",
     "output_type": "stream",
     "text": [
      "CPU times: user 7.02 s, sys: 2.81 s, total: 9.83 s\n",
      "Wall time: 28min 21s\n"
     ]
    }
   ],
   "source": [
    "%%time\n",
    "parseout=review_parts.collect()"
   ]
  },
  {
   "cell_type": "markdown",
   "metadata": {
    "deletable": true,
    "editable": true
   },
   "source": [
    "## 2. Getting the nouns and doing LDA"
   ]
  },
  {
   "cell_type": "markdown",
   "metadata": {
    "deletable": true,
    "editable": true
   },
   "source": [
    "We want to find out if a particular sentence of a review talks about the food quality or the decorations, the ambiance, the service, etc. We look at the nouns of the sentence to do this. The nouns are the first elements of all the tuples we created. Remember we get a list of lists of lists from here:"
   ]
  },
  {
   "cell_type": "code",
   "execution_count": 33,
   "metadata": {
    "collapsed": false,
    "deletable": true,
    "editable": true
   },
   "outputs": [
    {
     "data": {
      "text/plain": [
       "[[[u'time',\n",
       "   u'year',\n",
       "   u'summer',\n",
       "   u'break',\n",
       "   u'college',\n",
       "   u'working',\n",
       "   u'ice',\n",
       "   u'cream',\n",
       "   u'factory',\n",
       "   u'hill'],\n",
       "  [u'year', u'memory', u'customer'],\n",
       "  [u'sandwiches', u'pittsburgh-style', u'sort', u'today', u'time', u'place'],\n",
       "  [u'place', u'town'],\n",
       "  [u'sandwich', u'hour'],\n",
       "  [u'thing', u'place', u'home']],\n",
       " [[u'drink', u'wing', u'special'],\n",
       "  [u'inside', u'bartender', u'job'],\n",
       "  [u'selection', u'alcohol'],\n",
       "  [u'wing', u'salad'],\n",
       "  [u'gluten', u'place', u'lot', u'food', u'sandwich'],\n",
       "  [u'lunch']],\n",
       " [[u'service', u'price', u'restroom'],\n",
       "  [u'buffalo', u'chicken', u'sandwich'],\n",
       "  [u'menu', u'bar', u'food', u'food', u'item', u'menu'],\n",
       "  [u'bar', u'path', u'worth', u'trip']]]"
      ]
     },
     "execution_count": 33,
     "metadata": {},
     "output_type": "execute_result"
    }
   ],
   "source": [
    "[e[0] for e in parseout[:3]]"
   ]
  },
  {
   "cell_type": "markdown",
   "metadata": {
    "deletable": true,
    "editable": true
   },
   "source": [
    "We flatten the outer list which holds all the lists corresponding to one given review out, because we now want to treat each accepted sentence in a review as a separate mini-review. Why do we want to do this for the nouns?"
   ]
  },
  {
   "cell_type": "markdown",
   "metadata": {
    "deletable": true,
    "editable": true
   },
   "source": [
    "### Why LDA on nouns?"
   ]
  },
  {
   "cell_type": "markdown",
   "metadata": {
    "deletable": true,
    "editable": true
   },
   "source": [
    "We do LDA only on nouns because the thematic signal is clearer, not-adulterated by other parts of speech.\n",
    "\n",
    "But why do we do it at the granularity of the nouns in a sentence?\n",
    "\n",
    "Think about this from the perspective of clustering. The generative model for LDA is one in which a document comes from a mixture of topics. Each topic can be thought of as a cluster. We need some data which has very clear and strong cluster membership to clearly delineate the clusters. Thus we need to treat the text at a granularity where at-least some sentences have strong cluster membership. For a review, for example, some sentences may talk only about food, and some sentences may talk only about service, and its important to have these so that the topics (clusters) can be clearly established. Thus a sentence is a reasonable granularity, while a paragraph may be too big.\n",
    "\n",
    "We use Spark's `flatMap` to do this."
   ]
  },
  {
   "cell_type": "code",
   "execution_count": 34,
   "metadata": {
    "collapsed": false,
    "deletable": true,
    "editable": true
   },
   "outputs": [
    {
     "data": {
      "text/plain": [
       "[[u'time',\n",
       "  u'year',\n",
       "  u'summer',\n",
       "  u'break',\n",
       "  u'college',\n",
       "  u'working',\n",
       "  u'ice',\n",
       "  u'cream',\n",
       "  u'factory',\n",
       "  u'hill'],\n",
       " [u'year', u'memory', u'customer'],\n",
       " [u'sandwiches', u'pittsburgh-style', u'sort', u'today', u'time', u'place'],\n",
       " [u'place', u'town'],\n",
       " [u'sandwich', u'hour']]"
      ]
     },
     "execution_count": 34,
     "metadata": {},
     "output_type": "execute_result"
    }
   ],
   "source": [
    "ldadatardd=sc.parallelize([ele[0] for ele in parseout]).flatMap(lambda l: l)\n",
    "ldadatardd.cache()\n",
    "ldadatardd.take(5)"
   ]
  },
  {
   "cell_type": "markdown",
   "metadata": {
    "deletable": true,
    "editable": true
   },
   "source": [
    "#### Creating the vocabulary"
   ]
  },
  {
   "cell_type": "markdown",
   "metadata": {
    "deletable": true,
    "editable": true
   },
   "source": [
    "Now that you have a set of \"documents\" for the LDA, each corresponding to the nouns in a sentence in all the reviews, lets go about compiling the complete vocabulary that these documents use. We need to do this so that we can set up the documents in the form of a corpus, where each document is a sparse vector of the size of the vocabulary, with a number in the slot for the word indicating how many times that word appeared in a document.\n",
    "\n",
    "So the first thing we want to do is to collect all the words. One more flattening does the job but will have duplicates"
   ]
  },
  {
   "cell_type": "code",
   "execution_count": 35,
   "metadata": {
    "collapsed": false,
    "deletable": true,
    "editable": true
   },
   "outputs": [
    {
     "data": {
      "text/plain": [
       "[u'time', u'year', u'summer', u'break', u'college']"
      ]
     },
     "execution_count": 35,
     "metadata": {},
     "output_type": "execute_result"
    }
   ],
   "source": [
    "ldadatardd.flatMap(lambda word: word).take(5)"
   ]
  },
  {
   "cell_type": "markdown",
   "metadata": {
    "deletable": true,
    "editable": true
   },
   "source": [
    "Then, in the usual word-count style we reduce to get the word numbers and then just drop these numbers as we dont care for them. We `zipWithIndex` the words to give them an index which we'll use as the place index in the corpus vector."
   ]
  },
  {
   "cell_type": "code",
   "execution_count": 36,
   "metadata": {
    "collapsed": false,
    "deletable": true,
    "editable": true
   },
   "outputs": [],
   "source": [
    "vocabtups = (ldadatardd.flatMap(lambda word: word)\n",
    "             .map(lambda word: (word, 1))\n",
    "             .reduceByKey(lambda a, b: a + b)\n",
    "             .map(lambda (x,y): x)\n",
    "             .zipWithIndex()\n",
    ").cache()"
   ]
  },
  {
   "cell_type": "markdown",
   "metadata": {
    "deletable": true,
    "editable": true
   },
   "source": [
    "We use Spark's `collectAsMap` to output the vocabulary `vocab` with the words as keys. We also use `map` to invert this dictionary and get `id2word` which maps the index to the word. This dictionary is then used by Gensim."
   ]
  },
  {
   "cell_type": "code",
   "execution_count": 37,
   "metadata": {
    "collapsed": false,
    "deletable": true,
    "editable": true
   },
   "outputs": [],
   "source": [
    "vocab=vocabtups.collectAsMap()\n",
    "id2word=vocabtups.map(lambda (x,y): (y,x)).collectAsMap()"
   ]
  },
  {
   "cell_type": "code",
   "execution_count": 38,
   "metadata": {
    "collapsed": false,
    "deletable": true,
    "editable": true
   },
   "outputs": [
    {
     "data": {
      "text/plain": [
       "(u'washugyu', u'originality', 5)"
      ]
     },
     "execution_count": 38,
     "metadata": {},
     "output_type": "execute_result"
    }
   ],
   "source": [
    "id2word[0], vocab.keys()[5], vocab[vocab.keys()[5]]"
   ]
  },
  {
   "cell_type": "markdown",
   "metadata": {
    "deletable": true,
    "editable": true
   },
   "source": [
    "The size of our vocabulary:"
   ]
  },
  {
   "cell_type": "code",
   "execution_count": 39,
   "metadata": {
    "collapsed": false,
    "deletable": true,
    "editable": true
   },
   "outputs": [
    {
     "data": {
      "text/plain": [
       "28994"
      ]
     },
     "execution_count": 39,
     "metadata": {},
     "output_type": "execute_result"
    }
   ],
   "source": [
    "len(vocab.keys())"
   ]
  },
  {
   "cell_type": "markdown",
   "metadata": {
    "deletable": true,
    "editable": true
   },
   "source": [
    "#### 2.1 Create a Corpus in bag of words form"
   ]
  },
  {
   "cell_type": "markdown",
   "metadata": {
    "deletable": true,
    "editable": true
   },
   "source": [
    "Its now your job to create the lazy RDD `documents`.  By lazy we mean that `collect` still needs to be called on it. `documents`  will be a list of lists that reflects the entire set of sentences. Each one of the member lists consists of a set of tuples `(index, count)` where `index` is the index of the corresponding word in the vocabulary and `count` is the number of times it occured in the sentence.\n",
    "\n",
    "`documents` will look something like:\n",
    "\n",
    "```\n",
    "[[(5912, 1), (3809, 1), (14131, 1), (3876, 1)],\n",
    "[(3266, 1), (3652, 1), (11644, 1), (2296, 1), (27516, 1), (8382, 1)],\n",
    " [(17217, 1), (22979, 1), (11210, 1), (18736, 1), (3893, 1), (21307, 1)],\n",
    " ...,\n",
    " [(23980, 1), (24730, 1), (22979, 1), (20012, 1), (11206, 2)]]\n",
    "```"
   ]
  },
  {
   "cell_type": "markdown",
   "metadata": {
    "deletable": true,
    "editable": true
   },
   "source": [
    "Hint: `defaultdict` from the `collections` module might be useful here"
   ]
  },
  {
   "cell_type": "code",
   "execution_count": 40,
   "metadata": {
    "collapsed": false,
    "deletable": true,
    "editable": true
   },
   "outputs": [],
   "source": [
    "#your code here\n",
    "import collections\n",
    "\n",
    "def wordcounter(r,vocab=vocab):\n",
    "    d = collections.defaultdict(int)\n",
    "    for word in r:\n",
    "        d[vocab[word]] += 1\n",
    "    return d.items()\n",
    "\n",
    "documents = ldadatardd.map(wordcounter)"
   ]
  },
  {
   "cell_type": "markdown",
   "metadata": {
    "deletable": true,
    "editable": true
   },
   "source": [
    "We take the first 5 to make sure we got the structure right"
   ]
  },
  {
   "cell_type": "code",
   "execution_count": 41,
   "metadata": {
    "collapsed": false,
    "deletable": true,
    "editable": true
   },
   "outputs": [
    {
     "data": {
      "text/plain": [
       "[[(23553, 1),\n",
       "  (22434, 1),\n",
       "  (22083, 1),\n",
       "  (27720, 1),\n",
       "  (494, 1),\n",
       "  (20531, 1),\n",
       "  (824, 1),\n",
       "  (6233, 1),\n",
       "  (2267, 1),\n",
       "  (12989, 1)],\n",
       " [(2267, 1), (27629, 1), (1319, 1)],\n",
       " [(22083, 1), (20426, 1), (26617, 1), (28249, 1), (28925, 1), (5694, 1)],\n",
       " [(20426, 1), (11754, 1)],\n",
       " [(28145, 1), (27575, 1)]]"
      ]
     },
     "execution_count": 41,
     "metadata": {},
     "output_type": "execute_result"
    }
   ],
   "source": [
    "documents.take(5)"
   ]
  },
  {
   "cell_type": "markdown",
   "metadata": {
    "deletable": true,
    "editable": true
   },
   "source": [
    "And then we `collect` and store in the variable `corpus`."
   ]
  },
  {
   "cell_type": "code",
   "execution_count": 42,
   "metadata": {
    "collapsed": false,
    "deletable": true,
    "editable": true
   },
   "outputs": [],
   "source": [
    "corpus=documents.collect()"
   ]
  },
  {
   "cell_type": "markdown",
   "metadata": {
    "deletable": true,
    "editable": true
   },
   "source": [
    "### Unsupervised topic extraction with LDA"
   ]
  },
  {
   "cell_type": "markdown",
   "metadata": {
    "deletable": true,
    "editable": true
   },
   "source": [
    "We now run the LDA algorithm on the nouns only. The nouns typically reflect the themes of a review sentence and including other parts of speech adds noise. \n",
    "\n",
    "We'll look for two topics. The thinking is that one topic will pick out the food, while the other one will pick up other stuff about restaurants, such as service or decorations. Of course there will be some mixing and such. The decision is rarely ever completely clean.\n",
    "\n",
    "Remember that LDA is an unsupervised algorithm, so there is no \"performance\" to measure. But we would like the two clusters we are looking for to correspond to our intuition that one should cover the food and one the other qualities of the restaurant. Or something similar.\n",
    "\n",
    "But again remember that there is no reason that this intuition is correct. Just like in the recommender models from the last homework, these clusters are \"latent\" factors. But if they do coincide with topics/classes/clusters in our data, LDA is more useful.\n",
    "\n",
    "We run LDA using a method called \"variational inference\", which can be updated online. We run it in chunks of 20,000 documents, hoping that topics have converged by then. This makes subsequent training faster."
   ]
  },
  {
   "cell_type": "markdown",
   "metadata": {
    "deletable": true,
    "editable": true
   },
   "source": [
    "#### 2.2 Carry out LDA"
   ]
  },
  {
   "cell_type": "code",
   "execution_count": 43,
   "metadata": {
    "collapsed": false,
    "deletable": true,
    "editable": true
   },
   "outputs": [],
   "source": [
    "import gensim"
   ]
  },
  {
   "cell_type": "markdown",
   "metadata": {
    "deletable": true,
    "editable": true
   },
   "source": [
    "You will run `gensim.models.ldamodel.LdaModel` on our corpus, setting the `id2word` argument to our `id2word` dictionary. Since we are trying to find two clusters, set `num_topics` to 2. The model is stored in the variable `lda2` (for LDA with two topics).\n",
    "\n",
    "This algorithm, as mentioned above, is online. More information about it can be found [here]( https://radimrehurek.com/gensim/wiki.html#latent-dirichlet-allocation) and at the other `gensim` docs (https://radimrehurek.com/gensim/models/ldamodel.html). Update it in chunks of 20,000 docs (`update_every=1` and `chunksize=20000`), with `passes=1` over the entire corpus\n",
    "\n",
    "The code takes about 2-3 minutes to run on my machine.\n"
   ]
  },
  {
   "cell_type": "code",
   "execution_count": 44,
   "metadata": {
    "collapsed": false,
    "deletable": true,
    "editable": true
   },
   "outputs": [],
   "source": [
    "#your code here\n",
    "lda2 = gensim.models.ldamodel.LdaModel(corpus=corpus,num_topics=2,id2word=id2word,\n",
    "                                       update_every=1,chunksize=20000,passes=1)"
   ]
  },
  {
   "cell_type": "markdown",
   "metadata": {
    "deletable": true,
    "editable": true
   },
   "source": [
    "#### 2.3 Interpret the topics you get with LDA"
   ]
  },
  {
   "cell_type": "markdown",
   "metadata": {
    "deletable": true,
    "editable": true
   },
   "source": [
    "Lets print the topics that the LDA gives us. Notice the two topics are combinations of representative words in the way gensim prints them. You can change print options if you want."
   ]
  },
  {
   "cell_type": "code",
   "execution_count": 45,
   "metadata": {
    "collapsed": false,
    "deletable": true,
    "editable": true
   },
   "outputs": [
    {
     "data": {
      "text/plain": [
       "[u'0.068*food + 0.055*place + 0.031*service + 0.029*time + 0.025*restaurant + 0.016*staff + 0.016*order + 0.015*price + 0.013*table + 0.013*person',\n",
       " u'0.021*chicken + 0.019*sauce + 0.018*pizza + 0.017*burger + 0.015*cheese + 0.014*flavor + 0.014*menu + 0.013*salad + 0.012*fry + 0.012*sandwich']"
      ]
     },
     "execution_count": 45,
     "metadata": {},
     "output_type": "execute_result"
    }
   ],
   "source": [
    "lda2.print_topics()"
   ]
  },
  {
   "cell_type": "markdown",
   "metadata": {
    "deletable": true,
    "editable": true
   },
   "source": [
    "We print out some \"documents\" or \"sentences\" from the corpus. The variable we use for iteration is called `bow` for bag-of-words. We use `id2word` to print out the words as well...\n",
    "\n",
    "`get_document_topics(bow)` gives us the two clusters we are looking for, and the probability that the sentence referred to one of the topics or the other."
   ]
  },
  {
   "cell_type": "code",
   "execution_count": 46,
   "metadata": {
    "collapsed": false,
    "deletable": true,
    "editable": true
   },
   "outputs": [
    {
     "name": "stdout",
     "output_type": "stream",
     "text": [
      "[(23553, 1), (22434, 1), (22083, 1), (27720, 1), (494, 1), (20531, 1), (824, 1), (6233, 1), (2267, 1), (12989, 1)]\n",
      "[(0, 0.67732991247696173), (1, 0.32267008752303822)]\n",
      "break summer time factory working college cream hill year ice\n",
      "==========================================\n",
      "[(12641, 1), (8548, 1), (1694, 1), (27527, 1)]\n",
      "[(0, 0.89948113920110973), (1, 0.10051886079889016)]\n",
      "path bar worth trip\n",
      "==========================================\n",
      "[(28145, 1), (4186, 1), (5555, 1), (24837, 1)]\n",
      "[(0, 0.105138216995272), (1, 0.89486178300472796)]\n",
      "sandwich companion dinner salad\n",
      "==========================================\n",
      "[(16419, 1), (24837, 1), (18631, 1), (27965, 1), (28145, 1), (23645, 1)]\n",
      "[(0, 0.071641677673213375), (1, 0.92835832232678661)]\n",
      "tuna salad cheese slice sandwich toast\n",
      "==========================================\n",
      "[(26219, 1)]\n",
      "[(0, 0.25008827862498195), (1, 0.74991172137501805)]\n",
      "burger\n",
      "==========================================\n",
      "[(1794, 2), (9250, 1)]\n",
      "[(0, 0.4700970324318568), (1, 0.52990296756814326)]\n",
      "coffee diner\n",
      "==========================================\n",
      "[(20426, 1), (14230, 1)]\n",
      "[(0, 0.83166723815200583), (1, 0.16833276184799417)]\n",
      "place table\n",
      "==========================================\n",
      "[(320, 1), (17297, 1), (4691, 1), (25812, 1), (19743, 1)]\n",
      "[(0, 0.083433866030450429), (1, 0.91656613396954956)]\n",
      "ham banana delish soup pepper\n",
      "==========================================\n",
      "[(12561, 1), (22813, 1), (8766, 1), (25959, 1)]\n",
      "[(0, 0.1000142258865715), (1, 0.8999857741134285)]\n",
      "bun patty onion cheeseburger\n",
      "==========================================\n",
      "[(10862, 1), (8797, 1), (916, 1), (3790, 1), (27575, 1), (14621, 1)]\n",
      "[(0, 0.82238721528269065), (1, 0.17761278471730929)]\n",
      "surprise sister door afternoon hour entry\n",
      "==========================================\n",
      "[(16752, 1), (23531, 1), (444, 1)]\n",
      "[(0, 0.87246097902049402), (1, 0.12753902097950603)]\n",
      "car order minute\n",
      "==========================================\n",
      "[(25601, 1), (3284, 1), (2031, 1)]\n",
      "[(0, 0.62330379288427262), (1, 0.37669620711572738)]\n",
      "shocker party night\n",
      "==========================================\n",
      "[(1177, 1), (21419, 1), (19316, 1), (18575, 1)]\n",
      "[(0, 0.8623412489578357), (1, 0.13765875104216438)]\n",
      "chorus piano lesson lyric\n",
      "==========================================\n",
      "[(4449, 1), (28836, 1), (7334, 1), (8796, 1), (7244, 1), (19277, 1), (25486, 1), (2640, 1), (8337, 2), (28916, 1), (3128, 1), (28252, 1)]\n",
      "[(0, 0.96181980797370525), (1, 0.038180192026294676)]\n",
      "repeating whore idea stage theme mirror butt phrase twinkle slut bitch pianist\n",
      "==========================================\n",
      "[(23560, 1), (2570, 1), (17455, 1), (24269, 2), (4125, 1)]\n",
      "[(0, 0.9280073161415423), (1, 0.071992683858457654)]\n",
      "cornhole month game area screen\n",
      "==========================================\n",
      "[(9161, 1), (23722, 1), (9531, 1), (2148, 1)]\n",
      "[(0, 0.87514473101502721), (1, 0.12485526898497279)]\n",
      "voice raspy friend guy\n",
      "==========================================\n",
      "[(27657, 1), (9935, 1)]\n",
      "[(0, 0.53841679175223989), (1, 0.46158320824776006)]\n",
      "downfall food\n",
      "==========================================\n",
      "[(12058, 1), (23660, 1), (28461, 1), (406, 1)]\n",
      "[(0, 0.11775776266481272), (1, 0.88224223733518736)]\n",
      "mom steak friedness roll\n",
      "==========================================\n",
      "[(26404, 1), (28741, 1), (6278, 1), (6640, 1), (214, 1), (15749, 1)]\n",
      "[(0, 0.080351732421402061), (1, 0.91964826757859797)]\n",
      "build chicken kind taco plate fixing\n",
      "==========================================\n",
      "[(23488, 1), (6242, 1), (28357, 1)]\n",
      "[(0, 0.87484609320143658), (1, 0.12515390679856339)]\n",
      "bartender guest behavior\n",
      "==========================================\n",
      "[(17406, 1)]\n",
      "[(0, 0.74791954961572404), (1, 0.2520804503842759)]\n",
      "look\n",
      "==========================================\n",
      "[(20739, 1)]\n",
      "[(0, 0.25029993715937732), (1, 0.74970006284062274)]\n",
      "ale\n",
      "==========================================\n",
      "[(12905, 2), (6039, 1)]\n",
      "[(0, 0.13265821757933044), (1, 0.86734178242066962)]\n",
      "beer taste\n",
      "==========================================\n",
      "[(1906, 1), (28741, 1), (10862, 1)]\n",
      "[(0, 0.12616396963320931), (1, 0.87383603036679069)]\n",
      "flauta chicken surprise\n",
      "==========================================\n",
      "[(898, 1)]\n",
      "[(0, 0.74759173803345491), (1, 0.25240826196654514)]\n",
      "experience\n",
      "==========================================\n",
      "[(28290, 1)]\n",
      "[(0, 0.35390093997268396), (1, 0.64609906002731599)]\n",
      "hit\n",
      "==========================================\n",
      "[(9935, 1)]\n",
      "[(0, 0.74980869012827445), (1, 0.25019130987172555)]\n",
      "food\n",
      "==========================================\n",
      "[(23488, 1), (7240, 1), (2003, 1), (20436, 1), (16111, 2)]\n",
      "[(0, 0.73511952113765733), (1, 0.26488047886234262)]\n",
      "bartender menu client array drink\n",
      "==========================================\n",
      "[(20745, 1), (11348, 1), (8766, 1)]\n",
      "[(0, 0.12519918211888117), (1, 0.87480081788111885)]\n",
      "dish pizza onion\n",
      "==========================================\n",
      "[(7590, 1), (2031, 1)]\n",
      "[(0, 0.61934688826918383), (1, 0.38065311173081623)]\n",
      "course night\n",
      "==========================================\n",
      "[(16752, 1), (23899, 1), (9531, 1), (11348, 1), (20855, 1)]\n",
      "[(0, 0.65310535780558754), (1, 0.34689464219441246)]\n",
      "car trouble friend pizza style\n",
      "==========================================\n",
      "[(11348, 1), (15889, 1), (6100, 1), (27965, 1), (22601, 1)]\n",
      "[(0, 0.097170345118647569), (1, 0.90282965488135247)]\n",
      "pizza tomato sun slice sweetness\n",
      "==========================================\n",
      "[(11348, 1), (18182, 1)]\n",
      "[(0, 0.1670183122396571), (1, 0.83298168776034298)]\n",
      "pizza mini\n",
      "==========================================\n",
      "[(19609, 1), (22083, 1), (148, 1), (21373, 1)]\n",
      "[(0, 0.75124046991262994), (1, 0.24875953008737009)]\n",
      "staff time service shelf\n",
      "==========================================\n",
      "[(20681, 1), (4205, 1), (28741, 1)]\n",
      "[(0, 0.12508399068600712), (1, 0.87491600931399294)]\n",
      "shrimp flavor chicken\n",
      "==========================================\n",
      "[(20426, 1), (5451, 1), (6060, 1), (11998, 1)]\n",
      "[(0, 0.89354348400634953), (1, 0.10645651599365055)]\n",
      "place news wifi panera\n",
      "==========================================\n",
      "[(19587, 1), (15684, 1), (28741, 1), (26571, 1), (6039, 1), (24837, 3)]\n",
      "[(0, 0.060484263078954964), (1, 0.93951573692104495)]\n",
      "mix spring chicken use taste salad\n",
      "==========================================\n",
      "[(16353, 1), (23531, 1)]\n",
      "[(0, 0.82820222560997769), (1, 0.17179777439002231)]\n",
      "waitress order\n",
      "==========================================\n",
      "[(8548, 1), (24837, 1), (20426, 1), (20919, 1), (25812, 1), (11031, 1)]\n",
      "[(0, 0.60967690570767152), (1, 0.39032309429232848)]\n",
      "bar salad place gourmet soup shame\n",
      "==========================================\n",
      "[(18326, 1)]\n",
      "[(0, 0.61896852866349961), (1, 0.38103147133650045)]\n",
      "kid\n",
      "==========================================\n",
      "[(20426, 1), (2867, 1)]\n",
      "[(0, 0.82707916787176161), (1, 0.1729208321282385)]\n",
      "place reviewer\n",
      "==========================================\n",
      "[(4513, 1), (26538, 1)]\n",
      "[(0, 0.79751733174239681), (1, 0.20248266825760322)]\n",
      "charm bit\n",
      "==========================================\n",
      "[(25900, 1)]\n",
      "[(0, 0.25002898806827017), (1, 0.74997101193172977)]\n",
      "pepperoni\n",
      "==========================================\n",
      "[(21656, 1), (18441, 1), (23531, 1), (23645, 1), (24414, 1)]\n",
      "[(0, 0.1291123108047163), (1, 0.8708876891952837)]\n",
      "bacon potato order toast egg\n",
      "==========================================\n",
      "[(25436, 1), (2530, 1), (25548, 1), (12250, 1), (20270, 1)]\n",
      "[(0, 0.083406218419569092), (1, 0.91659378158043092)]\n",
      "spinach omelet mushroom feta sourness\n",
      "==========================================\n",
      "[(3336, 1), (271, 1)]\n",
      "[(0, 0.23917580683657189), (1, 0.7608241931634282)]\n",
      "home fry\n",
      "==========================================\n",
      "[(9377, 1), (15796, 1), (2828, 1), (5694, 1), (3991, 1)]\n",
      "[(0, 0.91529204535246989), (1, 0.084707954647530101)]\n",
      "change try pace today lunch\n",
      "==========================================\n",
      "[(16161, 1), (5065, 1), (18631, 1), (24837, 1), (9469, 1)]\n",
      "[(0, 0.083353948180538637), (1, 0.91664605181946135)]\n",
      "pear vinaigrette cheese salad goat\n",
      "==========================================\n",
      "[(6819, 1), (25188, 1), (28317, 1)]\n",
      "[(0, 0.14586952289862895), (1, 0.85413047710137102)]\n",
      "piece brick bark\n",
      "==========================================\n",
      "[(18697, 1), (20426, 1), (271, 2), (1297, 1), (15796, 1), (5787, 1), (21674, 1)]\n",
      "[(0, 0.38752318437295197), (1, 0.61247681562704814)]\n",
      "corner place fry mussel try yum herb\n",
      "==========================================\n",
      "[(20426, 1)]\n",
      "[(0, 0.74986160421415904), (1, 0.25013839578584096)]\n",
      "place\n",
      "==========================================\n",
      "[(17378, 1), (13000, 1), (14058, 1), (9003, 1), (23310, 1), (2674, 1), (17427, 1), (19130, 1)]\n",
      "[(0, 0.064099328920601911), (1, 0.93590067107939801)]\n",
      "eggplant corn carrot vegetable broccoli szechuan assortment zucchini\n",
      "==========================================\n",
      "[(28219, 1)]\n",
      "[(0, 0.25092432660824748), (1, 0.74907567339175252)]\n",
      "option\n",
      "==========================================\n",
      "[(20737, 1)]\n",
      "[(0, 0.74944234778163943), (1, 0.25055765221836057)]\n",
      "chinese\n",
      "==========================================\n",
      "[(3336, 1)]\n",
      "[(0, 0.67462084852867266), (1, 0.32537915147132734)]\n",
      "home\n",
      "==========================================\n",
      "[(20426, 1), (7199, 1), (15485, 1), (5694, 1), (9935, 1)]\n",
      "[(0, 0.91561230774270286), (1, 0.084387692257297101)]\n",
      "place person belief today food\n",
      "==========================================\n",
      "[(898, 1), (24667, 1)]\n",
      "[(0, 0.83178819219914546), (1, 0.16821180780085446)]\n",
      "experience eating\n",
      "==========================================\n",
      "[(6081, 1), (25812, 1), (7240, 1), (23534, 1), (785, 1), (24500, 1), (12718, 1), (3991, 1), (9556, 1), (3867, 1), (26325, 1)]\n",
      "[(0, 0.17594901049354691), (1, 0.82405098950645306)]\n",
      "list soup menu muffin paninis made-to-order croissant lunch breakfast round good\n",
      "==========================================\n",
      "[(16753, 1), (22165, 1)]\n",
      "[(0, 0.1787916453553807), (1, 0.82120835464461939)]\n",
      "cap latte\n",
      "==========================================\n",
      "[(15032, 1), (20426, 1), (28219, 1)]\n",
      "[(0, 0.37659454421094823), (1, 0.62340545578905171)]\n",
      "bite place option\n",
      "==========================================\n"
     ]
    }
   ],
   "source": [
    "for bow in corpus[0:900:15]:\n",
    "    print bow\n",
    "    print lda2.get_document_topics(bow)\n",
    "    print \" \".join([id2word[e[0]] for e in bow])\n",
    "    print \"==========================================\""
   ]
  },
  {
   "cell_type": "markdown",
   "metadata": {
    "deletable": true,
    "editable": true
   },
   "source": [
    "Interpret the topic 0 and the topic 1 in the cell below by looking at the probabilities above. Play with changing the stride and limits in the for loop above to get a clear idea of what Topic 0 and Topic 1 correspond to."
   ]
  },
  {
   "cell_type": "markdown",
   "metadata": {
    "deletable": true,
    "editable": true
   },
   "source": [
    "*your answer here* <br>\n",
    "Topic 1 corresponds to all foods except sandwich and pizza. Topic 2 corresponds to place and service."
   ]
  },
  {
   "cell_type": "markdown",
   "metadata": {
    "deletable": true,
    "editable": true
   },
   "source": [
    "## 3. Supervised sentiment analysis with Naive Bayes"
   ]
  },
  {
   "cell_type": "markdown",
   "metadata": {
    "deletable": true,
    "editable": true
   },
   "source": [
    "Now that we have found the \"topics\" of sentences in all our reviews, we turn our attention to the adjectives in the reviews. \n",
    "\n",
    "Remember that we created a \"responses\" column earlier? What we'll now do is combine all the adjectives in an *entire* review together and use these for sentiment analysis.\n",
    "\n",
    "Typically, such sentiment analysis is done using an external data set such as SentiWordNet. Indeed, such an external analysis typically will perform better, as out positive-negative (1-0) signal is a bit diffuse given the method we used to create it. However, we are trying to learn the techniques here, so it wont hurt us to use our own data set to do this."
   ]
  },
  {
   "cell_type": "markdown",
   "metadata": {
    "deletable": true,
    "editable": true
   },
   "source": [
    "### Getting the adjectives"
   ]
  },
  {
   "cell_type": "markdown",
   "metadata": {
    "deletable": true,
    "editable": true
   },
   "source": [
    "Now that we finished the topic modeling, we go on to do the sentiment analysis of the reviews. The first thing to do is to get the adjectives together. We can create a RDD in the same way that we did for the LDA."
   ]
  },
  {
   "cell_type": "code",
   "execution_count": 47,
   "metadata": {
    "collapsed": false,
    "deletable": true,
    "editable": true
   },
   "outputs": [
    {
     "data": {
      "text/plain": [
       "[[[u'old'],\n",
       "  [u'fond'],\n",
       "  [u'perfect', u'ancient'],\n",
       "  [u'clean', u'peaceful', u'little', u'oldest'],\n",
       "  [u'pretty', u'late'],\n",
       "  [u'good', u'closer']],\n",
       " [[u'cheap', u'daily', u'nice'],\n",
       "  [u'like', u'outside', u'friendly', u'good'],\n",
       "  [u'huge'],\n",
       "  [u'good'],\n",
       "  [u'free', u'fried'],\n",
       "  [u'quick']],\n",
       " [[u'great', u'clean'],\n",
       "  [u'delicious'],\n",
       "  [u'typical', u'different'],\n",
       "  [u'cool', u'beaten']]]"
      ]
     },
     "execution_count": 47,
     "metadata": {},
     "output_type": "execute_result"
    }
   ],
   "source": [
    "nbdatardd=sc.parallelize([ele[1] for ele in parseout])\n",
    "nbdatardd.cache()\n",
    "nbdatardd.take(3)"
   ]
  },
  {
   "cell_type": "markdown",
   "metadata": {
    "deletable": true,
    "editable": true
   },
   "source": [
    "#### 3.1 Create the vocabulary of adjectives for the Naive Bayes Classifier."
   ]
  },
  {
   "cell_type": "markdown",
   "metadata": {
    "deletable": true,
    "editable": true
   },
   "source": [
    "In analogy with the case of the nouns, create a vocabulary for the adjectives, with the unique adjectives and an index. Store in `adjvocab` the dictionary with the key the adjective and the value the index."
   ]
  },
  {
   "cell_type": "code",
   "execution_count": 48,
   "metadata": {
    "collapsed": false,
    "deletable": true,
    "editable": true
   },
   "outputs": [],
   "source": [
    "#your code here\n",
    "adjvocabtups = (nbdatardd.flatMap(lambda l:l).flatMap(lambda word: word)\n",
    "             .map(lambda word: (word, 1))\n",
    "             .reduceByKey(lambda a, b: a + b)\n",
    "             .map(lambda (x,y): x)\n",
    "             .zipWithIndex()).cache()\n",
    "\n",
    "adjvocab = adjvocabtups.collectAsMap()\n",
    "adid2word=adjvocabtups.map(lambda (x,y): (y,x)).collectAsMap()"
   ]
  },
  {
   "cell_type": "code",
   "execution_count": 49,
   "metadata": {
    "collapsed": false,
    "deletable": true,
    "editable": true
   },
   "outputs": [
    {
     "data": {
      "text/plain": [
       "5251"
      ]
     },
     "execution_count": 49,
     "metadata": {},
     "output_type": "execute_result"
    }
   ],
   "source": [
    "adjvocab['delicious']"
   ]
  },
  {
   "cell_type": "code",
   "execution_count": 50,
   "metadata": {
    "collapsed": false,
    "deletable": true,
    "editable": true
   },
   "outputs": [
    {
     "data": {
      "text/plain": [
       "19941"
      ]
     },
     "execution_count": 50,
     "metadata": {},
     "output_type": "execute_result"
    }
   ],
   "source": [
    "len(adjvocab)"
   ]
  },
  {
   "cell_type": "markdown",
   "metadata": {
    "deletable": true,
    "editable": true
   },
   "source": [
    "### Get the adjective \"features\" and responses, training and test sets"
   ]
  },
  {
   "cell_type": "markdown",
   "metadata": {
    "deletable": true,
    "editable": true
   },
   "source": [
    "There is a slight difference in how we want to deal with the adjective data compared to how we handled the nouns earlier. We want to flatten the list of sentences in a review down to a list of all the adjectives in the review. That is, instead of a list of nouns per sentence of the review, we create a single list of all adjectives for the whole review, summarizing over all its sentences. Then we'll just join these adjectives together into a fake document using whitespace."
   ]
  },
  {
   "cell_type": "code",
   "execution_count": 51,
   "metadata": {
    "collapsed": true,
    "deletable": true,
    "editable": true
   },
   "outputs": [],
   "source": [
    "import itertools\n",
    "Xarraypre=nbdatardd.map(lambda l: \" \".join(list(itertools.chain.from_iterable(l))))\n",
    "Xarray=Xarraypre.collect()"
   ]
  },
  {
   "cell_type": "markdown",
   "metadata": {
    "deletable": true,
    "editable": true
   },
   "source": [
    "If you did these right, the length of these two arrays below should be equal. And any element of the array ought to be a whitespace separated list of adjectives"
   ]
  },
  {
   "cell_type": "code",
   "execution_count": 52,
   "metadata": {
    "collapsed": false,
    "deletable": true,
    "editable": true
   },
   "outputs": [
    {
     "name": "stdout",
     "output_type": "stream",
     "text": [
      "91336 91336\n",
      "old fond perfect ancient clean peaceful little oldest pretty late good closer\n"
     ]
    }
   ],
   "source": [
    "print  len(Xarray), len(resparray)\n",
    "print Xarray[0]"
   ]
  },
  {
   "cell_type": "markdown",
   "metadata": {
    "deletable": true,
    "editable": true
   },
   "source": [
    "Now we are ready to do train our classifier. As usual, we create a mask to split things into a test and training set."
   ]
  },
  {
   "cell_type": "code",
   "execution_count": 53,
   "metadata": {
    "collapsed": false,
    "deletable": true,
    "editable": true
   },
   "outputs": [],
   "source": [
    "from sklearn.cross_validation import train_test_split\n",
    "itrain, itest = train_test_split(xrange(len(Xarray)), train_size=0.7)\n",
    "mask=np.ones(len(Xarray), dtype='int')\n",
    "mask[itrain]=1\n",
    "mask[itest]=0\n",
    "mask = (mask==1)"
   ]
  },
  {
   "cell_type": "markdown",
   "metadata": {
    "deletable": true,
    "editable": true
   },
   "source": [
    "Since `Xarray` and `resparray` are regular python arrays output by Spark, we convert them into numpy arrays for use with `sklearn`. "
   ]
  },
  {
   "cell_type": "code",
   "execution_count": 54,
   "metadata": {
    "collapsed": false,
    "deletable": true,
    "editable": true
   },
   "outputs": [],
   "source": [
    "X=np.array(Xarray)\n",
    "y=np.array(resparray)"
   ]
  },
  {
   "cell_type": "markdown",
   "metadata": {
    "deletable": true,
    "editable": true
   },
   "source": [
    "#### Transforming to Bag-Of-Words representation"
   ]
  },
  {
   "cell_type": "markdown",
   "metadata": {
    "deletable": true,
    "editable": true
   },
   "source": [
    "We use a vectorizer to transform the space separated adjectives we have to a bag-of-words representation. For the case of the nouns we wrote this vectorizer ourselves. For the adjectives we'll use a vectorizer from `sklearn` to do the jon (see lab 10 or hw3, cs109 2013 for examples, and the `CountVectorizer` documentation from `sklearn`). \n",
    "\n",
    "Here is a function which takes a `X-col` of word based documents and uses the vectorizer `vectorizer` to transform them into a feature matrix where the features are the vocabulary. We'll see how to do this in detail in a little bit."
   ]
  },
  {
   "cell_type": "code",
   "execution_count": 55,
   "metadata": {
    "collapsed": true,
    "deletable": true,
    "editable": true
   },
   "outputs": [],
   "source": [
    "def make_xy(X_col, y_col, vectorizer):\n",
    "    X = vectorizer.fit_transform(X_col)\n",
    "    y = y_col\n",
    "    return X, y"
   ]
  },
  {
   "cell_type": "markdown",
   "metadata": {
    "deletable": true,
    "editable": true
   },
   "source": [
    "### Support code to run a Naive Bayes Classifier."
   ]
  },
  {
   "cell_type": "markdown",
   "metadata": {
    "deletable": true,
    "editable": true
   },
   "source": [
    "Do you remember how, in homework 3 we had an asymmetric classifier and dealt with it by creating ROC curves and picking the threshold on them?\n",
    "\n",
    "The approach was a good one, but we could have improved on it in two ways\n",
    "\n",
    "(a) we could have computed ROC curves on validation folds so that we could have error-bars on the ROC curves, rather than eating up the test set to do model comparison.\n",
    "\n",
    "(b) we had the ability to plug in a different score. We could have directly put in a cost, or another such score in the cross-validation process. Some of the theory behind this is covered in the Bayes 3 lab of lab 9. \n",
    "\n",
    "Here we do have a somewhat asymmetric set. So we'll use a different score, designed to maximize probability instead. In general any score that is convex is ok, as it is then guaranteed to have a global optimum.\n",
    "\n",
    "Instead of using accuracy as our cross-validation metric, we'll use log likelihood instead."
   ]
  },
  {
   "cell_type": "markdown",
   "metadata": {
    "deletable": true,
    "editable": true
   },
   "source": [
    "#### 3.2 Write a custom score function, log-likelihood"
   ]
  },
  {
   "cell_type": "markdown",
   "metadata": {
    "deletable": true,
    "editable": true
   },
   "source": [
    "Using clf.predict_logproba, write a function that computes the log-likelihood of a dataset"
   ]
  },
  {
   "cell_type": "code",
   "execution_count": 56,
   "metadata": {
    "collapsed": true,
    "deletable": true,
    "editable": true
   },
   "outputs": [],
   "source": [
    "\"\"\"\n",
    "Function\n",
    "--------\n",
    "log_likelihood\n",
    "\n",
    "Compute the log likelihood of a dataset according to \n",
    "a Naive Bayes classifier. \n",
    "The Log Likelihood is defined by\n",
    "\n",
    "L = Sum_positive(logP(positive)) + Sum_negative(logP(negative))\n",
    "\n",
    "Where Sum_positive indicates a sum over all positive reviews, \n",
    "and Sum_negative indicates a sum over negative reviews\n",
    "    \n",
    "Parameters\n",
    "----------\n",
    "clf : Naive Bayes classifier\n",
    "x : (nexample, nfeature) array\n",
    "    The input data\n",
    "y : (nexample) integer array\n",
    "    Whether each review is Fresh\n",
    "\"\"\"\n",
    "#your code here\n",
    "def log_likelihood(clf,x,y):\n",
    "    prob = clf.predict_log_proba(x)\n",
    "    rotten = y == 0\n",
    "    fresh = ~rotten\n",
    "    return prob[rotten, 0].sum() + prob[fresh, 1].sum()"
   ]
  },
  {
   "cell_type": "markdown",
   "metadata": {
    "deletable": true,
    "editable": true
   },
   "source": [
    "#### Cross-Validation"
   ]
  },
  {
   "cell_type": "markdown",
   "metadata": {
    "deletable": true,
    "editable": true
   },
   "source": [
    "Here's a function to estimate the cross-validated value of a scoring function, given a classifier and data. Why are we providing this function?\n",
    "\n",
    "Why not use `do_classify`? Indeed we could, but we also want to set up a parameter for the vectorization pre-processing step. We could use a pipeline for this purpose, and then use `do_classify`.\n",
    "\n",
    "Here we'll have you implement the pipeline yourself, since it has two steps. This way the process of setting up a pipeline becomes "
   ]
  },
  {
   "cell_type": "code",
   "execution_count": 57,
   "metadata": {
    "collapsed": true,
    "deletable": true,
    "editable": true
   },
   "outputs": [],
   "source": [
    "from sklearn.cross_validation import KFold\n",
    "\n",
    "def cv_score(clf, x, y, score_func, nfold=5):\n",
    "    \"\"\"\n",
    "    Uses 5-fold cross validation to estimate a score of a classifier\n",
    "    \n",
    "    Inputs\n",
    "    ------\n",
    "    clf : Classifier object\n",
    "    x : Input feature vector\n",
    "    y : Input class labels\n",
    "    score_func : Function like log_likelihood, that takes (clf, x, y) as input,\n",
    "                 and returns a score\n",
    "                 \n",
    "    Returns\n",
    "    -------\n",
    "    The average score obtained by splitting (x, y) into 5 folds of training and \n",
    "    test sets, fitting on the training set, and evaluating score_func on the test set\n",
    "    \n",
    "    Examples\n",
    "    cv_score(clf, x, y, log_likelihood)\n",
    "    \"\"\"\n",
    "    result = 0\n",
    "    for train, test in KFold(y.size, nfold): # split data into train/test groups, 5 times\n",
    "        clf.fit(x[train], y[train]) # fit\n",
    "        result += score_func(clf, x[test], y[test]) # evaluate score function on held-out data\n",
    "    return result / nfold # average"
   ]
  },
  {
   "cell_type": "markdown",
   "metadata": {
    "deletable": true,
    "editable": true
   },
   "source": [
    "#### Calibration of a classifier"
   ]
  },
  {
   "cell_type": "markdown",
   "metadata": {
    "deletable": true,
    "editable": true
   },
   "source": [
    "This code is simply lifted from cs109 2013 hw 3 and labs 9 and 10. You always want to check the calibration of a probabilistic classifier:  -- that is, whether a prediction made with a confidence of x% is correct approximately x% of the time. We might say a model is over-confident if the positive fraction is usually closer to 0.5 than expected (that is, there is more uncertainty than the model predicted). Likewise, a model is under-confident if the probabilities are usually further away from 0.5. Here we provide code to make a calibration plot. See Lab 10 for a description of what this code does."
   ]
  },
  {
   "cell_type": "code",
   "execution_count": 58,
   "metadata": {
    "collapsed": true,
    "deletable": true,
    "editable": true
   },
   "outputs": [],
   "source": [
    "def calibration_plot(clf, xtest, ytest):\n",
    "    prob = clf.predict_proba(xtest)[:, 1]\n",
    "    outcome = ytest\n",
    "    data = pd.DataFrame(dict(prob=prob, outcome=outcome))\n",
    "\n",
    "    #group outcomes into bins of similar probability\n",
    "    bins = np.linspace(0, 1, 20)\n",
    "    cuts = pd.cut(prob, bins)\n",
    "    binwidth = bins[1] - bins[0]\n",
    "    \n",
    "    #freshness ratio and number of examples in each bin\n",
    "    cal = data.groupby(cuts).outcome.agg(['mean', 'count'])\n",
    "    cal['pmid'] = (bins[:-1] + bins[1:]) / 2\n",
    "    cal['sig'] = np.sqrt(cal.pmid * (1 - cal.pmid) / cal['count'])\n",
    "        \n",
    "    #the calibration plot\n",
    "    ax = plt.subplot2grid((3, 1), (0, 0), rowspan=2)\n",
    "    p = plt.errorbar(cal.pmid, cal['mean'], cal['sig'])\n",
    "    plt.plot(cal.pmid, cal.pmid, linestyle='--', lw=1, color='k')\n",
    "    plt.ylabel(\"Empirical P(+)\")\n",
    "    \n",
    "    #the distribution of P(+)\n",
    "    ax = plt.subplot2grid((3, 1), (2, 0), sharex=ax)\n",
    "    \n",
    "    plt.bar(left=cal.pmid - binwidth / 2, height=cal['count'],\n",
    "            width=.95 * (bins[1] - bins[0]),\n",
    "            fc=p[0].get_color())\n",
    "    \n",
    "    plt.xlabel(\"Predicted P(+)\")\n",
    "    plt.ylabel(\"Number\")"
   ]
  },
  {
   "cell_type": "markdown",
   "metadata": {
    "deletable": true,
    "editable": true
   },
   "source": [
    "We are going to use a simple `CountVectorizer` here, along with a Multinomial Naive Bayes classifier."
   ]
  },
  {
   "cell_type": "code",
   "execution_count": 59,
   "metadata": {
    "collapsed": true,
    "deletable": true,
    "editable": true
   },
   "outputs": [],
   "source": [
    "from sklearn.feature_extraction.text import CountVectorizer\n",
    "from sklearn.naive_bayes import MultinomialNB"
   ]
  },
  {
   "cell_type": "markdown",
   "metadata": {
    "deletable": true,
    "editable": true
   },
   "source": [
    "#### 3.3 Write a custom cross-validation loop"
   ]
  },
  {
   "cell_type": "markdown",
   "metadata": {
    "deletable": true,
    "editable": true
   },
   "source": [
    "Write a cross-validation loop that loops over the `min_df` parameter from `CountVectorizer` and `alpha` from `MultinomialNB`. \n",
    "\n",
    "- Use our adjective vocabulary `adjvocab` as an argument to `sklearn`'s CountVectorizer. This guarantees that the indices we set up will be used.\n",
    "- note that `min_df` affects this vectorization, and thus the vectorizer is created afresh at each point on the cross-validation grid.\n",
    "- `make_xy` thus needs to run for each hyper-parameter combination as well since the features are just slightly different. We use the same mask to make sure we are getting the same training samples\n",
    "- the cross-validation happens inside the `cv_score` function. Think of why this is ok...shouldnt feature creation happen inside the cross-validation loop? (answer this below your code)\n",
    "\n",
    "Output the best `alpha` in the variable `best_alpha` and `best_min_df` in the variable `best_min_df`."
   ]
  },
  {
   "cell_type": "code",
   "execution_count": 60,
   "metadata": {
    "collapsed": false,
    "deletable": true,
    "editable": true
   },
   "outputs": [],
   "source": [
    "#your code here\n",
    "alphas = [0, .1, 1, 5, 10, 50,100,500]\n",
    "min_dfs = [1e-5, 1e-4, 1e-3, 1e-2, 1e-1]\n",
    "\n",
    "#Find the best value for alpha and min_df, and the best classifier\n",
    "best_alpha = None\n",
    "best_min_df = None\n",
    "maxscore=-np.inf\n",
    "for alpha in alphas:\n",
    "    for min_df in min_dfs:         \n",
    "        vectorizer = CountVectorizer(vocabulary=adjvocab, min_df = min_df)       \n",
    "        Xthis, ythis = make_xy(X,y, vectorizer)\n",
    "        Xtrainthis=Xthis[mask]\n",
    "        ytrainthis=ythis[mask]\n",
    "        #your code here\n",
    "        clf = MultinomialNB(alpha=alpha)\n",
    "        cvscore = cv_score(clf, Xtrainthis, ytrainthis, log_likelihood)\n",
    "\n",
    "        if cvscore > maxscore:\n",
    "            maxscore = cvscore\n",
    "            best_alpha, best_min_df = alpha, min_df"
   ]
  },
  {
   "cell_type": "code",
   "execution_count": 61,
   "metadata": {
    "collapsed": false,
    "deletable": true,
    "editable": true
   },
   "outputs": [
    {
     "name": "stdout",
     "output_type": "stream",
     "text": [
      "alpha: 1.000000\n",
      "min_df: 0.000010\n"
     ]
    }
   ],
   "source": [
    "print \"alpha: %f\" % best_alpha\n",
    "print \"min_df: %f\" % best_min_df"
   ]
  },
  {
   "cell_type": "markdown",
   "metadata": {
    "deletable": true,
    "editable": true
   },
   "source": [
    "*your answer here* <br>\n",
    "When we use accuracy for the score, we should worry about overfitting, and we can examine overfitting by testing our model on the data set that is separate to the training set. Here the score is likelihood, not accuracy, so we don't have to worry about overfitting, which is one of the greatest advantage of using Bayes method. Therefore, we don't really have to use the same validation set over the loop in this case."
   ]
  },
  {
   "cell_type": "markdown",
   "metadata": {
    "deletable": true,
    "editable": true
   },
   "source": [
    "#### 3.4 Test time!"
   ]
  },
  {
   "cell_type": "markdown",
   "metadata": {
    "deletable": true,
    "editable": true
   },
   "source": [
    "Now that you've determined values for alpha and min_df that optimize the cross-validated log-likelihood, repeat the CountVectorization and fitting to train a final classifier with these parameters, and draw calibration plots on the test set. Calculate the accuracy on the training and testing set. Comment on your results and the calibration."
   ]
  },
  {
   "cell_type": "code",
   "execution_count": 62,
   "metadata": {
    "collapsed": false,
    "deletable": true,
    "editable": true
   },
   "outputs": [
    {
     "name": "stdout",
     "output_type": "stream",
     "text": [
      "Accuracy on training data: 0.75\n",
      "Accuracy on test data:     0.72\n"
     ]
    },
    {
     "data": {
      "image/png": "[encoded data removed]",
      "text/plain": [
       "<matplotlib.figure.Figure at 0x12f8052d0>"
      ]
     },
     "metadata": {},
     "output_type": "display_data"
    }
   ],
   "source": [
    "#your code here\n",
    "vectorizer = CountVectorizer(vocabulary=adjvocab,min_df=best_min_df)\n",
    "Xthis, ythis = make_xy(X,y, vectorizer)\n",
    "xtrain=Xthis[mask]\n",
    "ytrain=ythis[mask]\n",
    "xtest=Xthis[~mask]\n",
    "ytest=ythis[~mask]\n",
    "\n",
    "clf = MultinomialNB(alpha=best_alpha).fit(xtrain, ytrain)\n",
    "\n",
    "# Your code here. Print the accuracy on the test and training dataset\n",
    "training_accuracy = clf.score(xtrain, ytrain)\n",
    "test_accuracy = clf.score(xtest, ytest)\n",
    "\n",
    "print \"Accuracy on training data: %0.2f\" % (training_accuracy)\n",
    "print \"Accuracy on test data:     %0.2f\" % (test_accuracy)\n",
    "\n",
    "calibration_plot(clf,xtest,ytest)"
   ]
  },
  {
   "cell_type": "markdown",
   "metadata": {
    "deletable": true,
    "editable": true
   },
   "source": [
    "*your answer here* <br> According to the plot, the prediction overestimates when the word is very 'fresh', while it tends to underestimate when the word is 'rotten'. These two local biases cancel out, so overall, there is not much bias. "
   ]
  },
  {
   "cell_type": "markdown",
   "metadata": {
    "deletable": true,
    "editable": true
   },
   "source": [
    "## 4. Putting topics and sentiment analysis together"
   ]
  },
  {
   "cell_type": "markdown",
   "metadata": {
    "deletable": true,
    "editable": true
   },
   "source": [
    "Now we have probabilities for which topic a sentence belongs to based on the nouns, and we have our Naive Bayes classifier which predicts the sentiment of a whole review based on its adjectives. We need to modify our sentiment analysis to work on the level of single sentences, like we did for the topic modeling. The basic idea is summed up in this diagram:\n",
    "\n",
    "<img src=\"process.jpg\" width=800 height=600/>\n",
    "\n",
    "which shows a bunch of sentiments for the topics T0 and T1."
   ]
  },
  {
   "cell_type": "markdown",
   "metadata": {
    "deletable": true,
    "editable": true
   },
   "source": [
    "### Naive Bayes Probabilities"
   ]
  },
  {
   "cell_type": "markdown",
   "metadata": {
    "deletable": true,
    "editable": true
   },
   "source": [
    "Our naive Bayes classifier computes $P(\\text{class}\\,|\\,\\text{review})$, where the _class_ is \"whether the review is positive or negative\" and the _review_ corresponds to a set of adjectives $\\{\\text{word}_1, \\text{word}_2, \\text{word}_3, ...\\}$. \n",
    "\n",
    "According to Bayes theoreme we have:\n",
    "$$P(\\text{class}\\,|\\,\\text{word}_1, \\text{word}_2, ...) = \\frac{P(\\text{word}_1. \\text{word}_2, ...\\,|\\,\\text{class})P(\\text{class})}{P(\\text{word}_1, \\text{word}_2, ...)}$$\n",
    "\n",
    "Remember that the Naive Bayes classifier assumes conditional independence, i.e. it assumes that \n",
    "\n",
    "$P(\\text{word}_1, \\text{word}_2, ... \\,|\\, \\text{class}) = P(\\text{word_1}\\,|\\,\\text{class}) \\cdot P(\\text{word_2}\\,|\\,\\text{class}) \\cdot ...$. \n",
    "\n",
    "This means that during training our classifier estimated $P(\\text{word}_i \\,|\\, \\text{class})$, so it is pretty straightforward to apply it to the words from single sentences instead of whole reviews. We have to be careful though, because sentences typically are much shorter than whole reviews this means that we need to re-calibrate our conditional probabilities."
   ]
  },
  {
   "cell_type": "markdown",
   "metadata": {
    "deletable": true,
    "editable": true
   },
   "source": [
    "#### 4.1 Obtain log-probabilities for the adjectives"
   ]
  },
  {
   "cell_type": "markdown",
   "metadata": {
    "deletable": true,
    "editable": true
   },
   "source": [
    "We want to compute all the class-conditional probabilities $P(\\text{word}_i \\,|\\, \\text{class})$ for every word in our adjective vocabulary. Use the vectorizer's `get_feature_names` function and the Naive Bayes classifier's `feature_log_prob_` (see the docs for `MultinomialNB`) to create two dictionaries.  One dictionary is for $\\log P(\\text{word}_i \\,|\\, \\text{class}=1)$ and the other is for $\\log P(\\text{word}_i \\,|\\, \\text{class}=0)$. Call the first dictionary `logpositives` and the second one `lognegatives` respectively. Thus the keys are the words themselves and the values are the log-probabilities\n",
    "\n",
    "Note that we are using the logarithm here. As we multiply probabilities, we can run into numerical problems if we have too many factors. In log space multiplications become sums and our computations is more stable. \n"
   ]
  },
  {
   "cell_type": "code",
   "execution_count": 63,
   "metadata": {
    "collapsed": false,
    "deletable": true,
    "editable": true
   },
   "outputs": [],
   "source": [
    "#your code here\n",
    "vectorizer = CountVectorizer(vocabulary=adjvocab,min_df=best_min_df)\n",
    "Xthis, ythis = make_xy(X,y, vectorizer)\n",
    "xtrain=Xthis[mask]\n",
    "ytrain=ythis[mask]\n",
    "xtest=Xthis[~mask]\n",
    "ytest=ythis[~mask]\n",
    "\n",
    "clf = MultinomialNB(alpha=best_alpha).fit(xtrain, ytrain)\n",
    "\n"
   ]
  },
  {
   "cell_type": "code",
   "execution_count": 64,
   "metadata": {
    "collapsed": false,
    "deletable": true,
    "editable": true
   },
   "outputs": [],
   "source": [
    "feature = vectorizer.get_feature_names()\n",
    "log_prob = clf.feature_log_prob_\n",
    "\n",
    "logpositives = {feature:log_prob for feature, log_prob in zip(feature,log_prob[1])}\n",
    "lognegatives = {feature:log_prob for feature, log_prob in zip(feature,log_prob[0])}\n",
    "\n"
   ]
  },
  {
   "cell_type": "markdown",
   "metadata": {
    "deletable": true,
    "editable": true
   },
   "source": [
    "#### 4.2 Write a function to compute the probability that a sentence is positive."
   ]
  },
  {
   "cell_type": "markdown",
   "metadata": {
    "deletable": true,
    "editable": true
   },
   "source": [
    "We've calculated all the $P(\\text{word}_i \\,|\\, \\text{class}=1)$ and $P(\\text{word}_i \\,|\\, \\text{class}=0)$ above as logs. This has been done for all the adjectives in each review.\n",
    "\n",
    "Now we wish to invert the question. We wish to ask: given a sentence $s$ of adjectives (since we stripped the nouns), whats the probability that this sentence is positive? \n",
    "\n",
    "We use Bayes theorem for this (+ is the class):\n",
    "\n",
    "$$P(+\\,|\\,s) = \\frac{P(s\\,|\\,+)P(+)}{P(s\\,|\\,+)P(+) + P(s\\,|\\,-)P(-)}$$\n",
    "\n",
    "Using the Naive Bayes assumption we find for the adjectives $\\text{word}_i$:\n",
    "\n",
    "$$P(s\\,|\\,+) = \\prod_i P(\\text{word}_i\\,|\\,+) \\implies log(P(s\\,|\\,+)) = \\sum_i log(P(\\text{word}_i\\,|\\,+))$$\n",
    "\n",
    "Use these two formulae to write a function `calc_pplus` which takes 5 arguments: a list of adjectives `adjlist` constituting a sentence, a dictionary of logpositives `lp`, a dictionary of lognegatives `ln`, the prior probability of a review being positive `pp`, and the prior probability of a review being negative `pn`; and outputs $P(s\\,|\\,+)$. (The prior probabilities were calculated earlier in this notebook)\n",
    "\n",
    "Here is the spec:\n",
    "`def calc_pplus(adjlist, lp, ln, pp,pn)`"
   ]
  },
  {
   "cell_type": "code",
   "execution_count": 65,
   "metadata": {
    "collapsed": true,
    "deletable": true,
    "editable": true
   },
   "outputs": [],
   "source": [
    "#your code here\n",
    "def calc_pplus(adjlist,lp,ln,pp,pn):\n",
    "    logpsplus = np.array([lp[adj] for adj in adjlist]).sum()\n",
    "    logpsminus = np.array([ln[adj] for adj in adjlist]).sum()\n",
    "    return np.exp(logpsplus)*pp/(np.exp(logpsplus)*pp+np.exp(logpsminus)*pn)"
   ]
  },
  {
   "cell_type": "markdown",
   "metadata": {
    "deletable": true,
    "editable": true
   },
   "source": [
    "#### Compute the topic for a sentence"
   ]
  },
  {
   "cell_type": "markdown",
   "metadata": {
    "deletable": true,
    "editable": true
   },
   "source": [
    "Back to our LDA topics. First we do a sanity check. We obtain all the review ids, and check that the length of the `parseout` array is identical to that of the `reviews` array."
   ]
  },
  {
   "cell_type": "code",
   "execution_count": 66,
   "metadata": {
    "collapsed": true,
    "deletable": true,
    "editable": true
   },
   "outputs": [],
   "source": [
    "reviews=subdf.map(lambda r: r.review_id).collect()"
   ]
  },
  {
   "cell_type": "code",
   "execution_count": 67,
   "metadata": {
    "collapsed": false,
    "deletable": true,
    "editable": true
   },
   "outputs": [
    {
     "data": {
      "text/plain": [
       "(91336, 91336)"
      ]
     },
     "execution_count": 67,
     "metadata": {},
     "output_type": "execute_result"
    }
   ],
   "source": [
    "len(parseout),len(reviews)"
   ]
  },
  {
   "cell_type": "markdown",
   "metadata": {
    "deletable": true,
    "editable": true
   },
   "source": [
    "We write a function `choose_topic` which chooses which of the two LDA topics (clusters) we ought to pick for a sentence, given the bag of words for that sentence. This simply uses the higher probability cluster to make a choice. Sometimes `get_document_topics` only outputs one cluster if the probability is overwhelmingly high. So we need to handle this case."
   ]
  },
  {
   "cell_type": "code",
   "execution_count": 68,
   "metadata": {
    "collapsed": true,
    "deletable": true,
    "editable": true
   },
   "outputs": [],
   "source": [
    "def choose_topic(ldamodel, bow):\n",
    "    tee = lda2.get_document_topics(bow)\n",
    "    if len(tee)==2:\n",
    "        t1,t2=tee\n",
    "        if t2[1] >= t1[1]:#get higher probability topic\n",
    "            topicis=t2[0]\n",
    "        else:\n",
    "            topicis=t1[0]\n",
    "    elif len(tee)==1:#if only one was provided its very high probability. Take it\n",
    "        teetuple=tee[0]\n",
    "        topicis=teetuple[0]\n",
    "    return topicis\n"
   ]
  },
  {
   "cell_type": "markdown",
   "metadata": {
    "deletable": true,
    "editable": true
   },
   "source": [
    "We now combine the functions `calc_pplus` and `choose_topic` in the loop below to obtain the sentence topic and calculate the sentiment of the sentence. Note how we use the length of the noun-list for each review from `parseout` to obtain the appropriate bag-of-words from our corpus. We store our output for each review in a dictionary with keys review-id and values a list of dictionaries, one for each sentence with the topic `topic` of the sentence and the probability `pplus` of it \"being\" or predicting positive. This loop will take a few minutes to run."
   ]
  },
  {
   "cell_type": "code",
   "execution_count": 69,
   "metadata": {
    "collapsed": false,
    "deletable": true,
    "editable": true
   },
   "outputs": [],
   "source": [
    "counter=0\n",
    "reviewdict={}\n",
    "for i, rid in enumerate(reviews):\n",
    "    rlist=[]\n",
    "    nlist, alist = parseout[i]\n",
    "    ln=len(nlist)\n",
    "    localbow=corpus[counter:counter+ln]\n",
    "    for bow, adj, noun in zip(localbow, alist, nlist):\n",
    "        doc=\" \".join([id2word[e[0]] for e in bow])\n",
    "        pplus=calc_pplus(adj, logpositives, lognegatives, priorp, priorn)\n",
    "        topicis=choose_topic(lda2, bow)\n",
    "        ldict={\"topic\": topicis, 'pplus':pplus}\n",
    "        rlist.append(ldict)\n",
    "    reviewdict[rid]=rlist\n",
    "    counter=counter+ln\n"
   ]
  },
  {
   "cell_type": "markdown",
   "metadata": {
    "deletable": true,
    "editable": true
   },
   "source": [
    "####  Create a dataframe with all of this information"
   ]
  },
  {
   "cell_type": "markdown",
   "metadata": {
    "deletable": true,
    "editable": true
   },
   "source": [
    "We now write some Spark code to combine this dictionary with the original `subdf` dataframe to get a dataframe `completedf` which adds in the individual sentences for each review."
   ]
  },
  {
   "cell_type": "markdown",
   "metadata": {
    "deletable": true,
    "editable": true
   },
   "source": [
    "The function `extendit` takes a row from `subdf`, gets the `review_id`, uses it to lookup the `reviewdict` above, finds the list of sentence dictionaries there, makes a copy of the dictionaries, and augments them with information from `subdf`. So our output is a list of dicts, one for each sentence."
   ]
  },
  {
   "cell_type": "code",
   "execution_count": 70,
   "metadata": {
    "collapsed": true,
    "deletable": true,
    "editable": true
   },
   "outputs": [],
   "source": [
    "def extendit(row):\n",
    "    outlist=[]\n",
    "    revs=reviewdict[row.review_id]\n",
    "    for r in revs:\n",
    "        r2=r.copy()\n",
    "        r2['business_id']=row.business_id\n",
    "        r2['user_id']=row.user_id\n",
    "        r2['review_id']=row.review_id\n",
    "        r2['stars']=row.stars\n",
    "        r2['user_avg']=row.user_avg\n",
    "        outlist.append(r2)\n",
    "    return outlist\n"
   ]
  },
  {
   "cell_type": "markdown",
   "metadata": {
    "deletable": true,
    "editable": true
   },
   "source": [
    "We use Spark `flatMap` to create a huge list of dictionaries, one per sentence in the review, and then combine these into a Pandas (_not_ Spark) dataframe `completedf`"
   ]
  },
  {
   "cell_type": "code",
   "execution_count": 71,
   "metadata": {
    "collapsed": false,
    "deletable": true,
    "editable": true
   },
   "outputs": [
    {
     "name": "stdout",
     "output_type": "stream",
     "text": [
      "CPU times: user 31 s, sys: 2.29 s, total: 33.3 s\n",
      "Wall time: 33.2 s\n"
     ]
    }
   ],
   "source": [
    "%%time\n",
    "newdfin=subdf.flatMap(lambda r: extendit(r)).cache()"
   ]
  },
  {
   "cell_type": "code",
   "execution_count": 72,
   "metadata": {
    "collapsed": false,
    "deletable": true,
    "editable": true
   },
   "outputs": [
    {
     "data": {
      "text/plain": [
       "[{'business_id': u'KayYbHCt-RkbGcPdGOThNg',\n",
       "  'pplus': 0.56680675094281785,\n",
       "  'review_id': u'2xCds3bp0wM6nHMz3H65vg',\n",
       "  'stars': 4,\n",
       "  'topic': 0,\n",
       "  'user_avg': 3.6,\n",
       "  'user_id': u'4-3IU5uUH90m21TWbZhhnA'},\n",
       " {'business_id': u'KayYbHCt-RkbGcPdGOThNg',\n",
       "  'pplus': 0.64807039132888733,\n",
       "  'review_id': u'2xCds3bp0wM6nHMz3H65vg',\n",
       "  'stars': 4,\n",
       "  'topic': 0,\n",
       "  'user_avg': 3.6,\n",
       "  'user_id': u'4-3IU5uUH90m21TWbZhhnA'}]"
      ]
     },
     "execution_count": 72,
     "metadata": {},
     "output_type": "execute_result"
    }
   ],
   "source": [
    "newdfin.take(2)"
   ]
  },
  {
   "cell_type": "code",
   "execution_count": 73,
   "metadata": {
    "collapsed": false,
    "deletable": true,
    "editable": true
   },
   "outputs": [
    {
     "name": "stdout",
     "output_type": "stream",
     "text": [
      "CPU times: user 1.23 s, sys: 289 ms, total: 1.51 s\n",
      "Wall time: 58.9 s\n"
     ]
    }
   ],
   "source": [
    "%%time\n",
    "list_of_dicts=newdfin.collect()"
   ]
  },
  {
   "cell_type": "code",
   "execution_count": 74,
   "metadata": {
    "collapsed": false,
    "deletable": true,
    "editable": true
   },
   "outputs": [
    {
     "data": {
      "text/html": [
       "<div>\n",
       "<table border=\"1\" class=\"dataframe\">\n",
       "  <thead>\n",
       "    <tr style=\"text-align: right;\">\n",
       "      <th></th>\n",
       "      <th>business_id</th>\n",
       "      <th>pplus</th>\n",
       "      <th>review_id</th>\n",
       "      <th>stars</th>\n",
       "      <th>topic</th>\n",
       "      <th>user_avg</th>\n",
       "      <th>user_id</th>\n",
       "    </tr>\n",
       "  </thead>\n",
       "  <tbody>\n",
       "    <tr>\n",
       "      <th>0</th>\n",
       "      <td>KayYbHCt-RkbGcPdGOThNg</td>\n",
       "      <td>0.566807</td>\n",
       "      <td>2xCds3bp0wM6nHMz3H65vg</td>\n",
       "      <td>4</td>\n",
       "      <td>0</td>\n",
       "      <td>3.6</td>\n",
       "      <td>4-3IU5uUH90m21TWbZhhnA</td>\n",
       "    </tr>\n",
       "    <tr>\n",
       "      <th>1</th>\n",
       "      <td>KayYbHCt-RkbGcPdGOThNg</td>\n",
       "      <td>0.648070</td>\n",
       "      <td>2xCds3bp0wM6nHMz3H65vg</td>\n",
       "      <td>4</td>\n",
       "      <td>0</td>\n",
       "      <td>3.6</td>\n",
       "      <td>4-3IU5uUH90m21TWbZhhnA</td>\n",
       "    </tr>\n",
       "    <tr>\n",
       "      <th>2</th>\n",
       "      <td>KayYbHCt-RkbGcPdGOThNg</td>\n",
       "      <td>0.836425</td>\n",
       "      <td>2xCds3bp0wM6nHMz3H65vg</td>\n",
       "      <td>4</td>\n",
       "      <td>0</td>\n",
       "      <td>3.6</td>\n",
       "      <td>4-3IU5uUH90m21TWbZhhnA</td>\n",
       "    </tr>\n",
       "    <tr>\n",
       "      <th>3</th>\n",
       "      <td>KayYbHCt-RkbGcPdGOThNg</td>\n",
       "      <td>0.782402</td>\n",
       "      <td>2xCds3bp0wM6nHMz3H65vg</td>\n",
       "      <td>4</td>\n",
       "      <td>0</td>\n",
       "      <td>3.6</td>\n",
       "      <td>4-3IU5uUH90m21TWbZhhnA</td>\n",
       "    </tr>\n",
       "    <tr>\n",
       "      <th>4</th>\n",
       "      <td>KayYbHCt-RkbGcPdGOThNg</td>\n",
       "      <td>0.506715</td>\n",
       "      <td>2xCds3bp0wM6nHMz3H65vg</td>\n",
       "      <td>4</td>\n",
       "      <td>1</td>\n",
       "      <td>3.6</td>\n",
       "      <td>4-3IU5uUH90m21TWbZhhnA</td>\n",
       "    </tr>\n",
       "  </tbody>\n",
       "</table>\n",
       "</div>"
      ],
      "text/plain": [
       "              business_id     pplus               review_id  stars  topic  user_avg                 user_id\n",
       "0  KayYbHCt-RkbGcPdGOThNg  0.566807  2xCds3bp0wM6nHMz3H65vg      4      0       3.6  4-3IU5uUH90m21TWbZhhnA\n",
       "1  KayYbHCt-RkbGcPdGOThNg  0.648070  2xCds3bp0wM6nHMz3H65vg      4      0       3.6  4-3IU5uUH90m21TWbZhhnA\n",
       "2  KayYbHCt-RkbGcPdGOThNg  0.836425  2xCds3bp0wM6nHMz3H65vg      4      0       3.6  4-3IU5uUH90m21TWbZhhnA\n",
       "3  KayYbHCt-RkbGcPdGOThNg  0.782402  2xCds3bp0wM6nHMz3H65vg      4      0       3.6  4-3IU5uUH90m21TWbZhhnA\n",
       "4  KayYbHCt-RkbGcPdGOThNg  0.506715  2xCds3bp0wM6nHMz3H65vg      4      1       3.6  4-3IU5uUH90m21TWbZhhnA"
      ]
     },
     "execution_count": 74,
     "metadata": {},
     "output_type": "execute_result"
    }
   ],
   "source": [
    "completedf=pd.DataFrame(list_of_dicts)\n",
    "completedf.head()"
   ]
  },
  {
   "cell_type": "markdown",
   "metadata": {
    "deletable": true,
    "editable": true
   },
   "source": [
    "We see this is a bigger dataframe:"
   ]
  },
  {
   "cell_type": "code",
   "execution_count": 75,
   "metadata": {
    "collapsed": false,
    "deletable": true,
    "editable": true
   },
   "outputs": [
    {
     "data": {
      "text/plain": [
       "(462206, 7)"
      ]
     },
     "execution_count": 75,
     "metadata": {},
     "output_type": "execute_result"
    }
   ],
   "source": [
    "completedf.shape"
   ]
  },
  {
   "cell_type": "markdown",
   "metadata": {
    "deletable": true,
    "editable": true
   },
   "source": [
    "#### 4.3 Get the stats"
   ]
  },
  {
   "cell_type": "markdown",
   "metadata": {
    "deletable": true,
    "editable": true
   },
   "source": [
    "We are now going to group by `review_id` and `topic` to calculate statistics on all the sentences that belong to a particular review, and to a particular topic: \n",
    "\n",
    "`completedf.groupby(['review_id', 'topic'])`\n",
    "\n",
    "For each group in this group-by we will apply a function `get_stats` which takes the group as an argument and returns a one-row dataframe with columns:\n",
    "\n",
    "- `min`: minimum value of column `pplus`\n",
    "- `max`: maximum value of column `pplus`\n",
    "- `rid`: restaurant_id for the review\n",
    "- `uavg`: average user rating for user doing this review\n",
    "- `count`: number of sentences\n",
    "- `var`: variance of column `pplus` calculated with `ddof=1`. If the sample variance is NAN when there is only 1 sentence in a review (which happens quite often) set the variance to 0\n",
    "- `mean`: the mean of the column `pplus`\n",
    "- `stars`: the number of stars for the review.\n",
    "\n",
    "Set the index of this one line dataframe to the restaurant id (`rid`).\n",
    "\n",
    "What this function does is that it gives us review and topic specific statistics, computed on the sentences in the review.\n",
    "\n",
    "The spec of this function is:\n",
    "\n",
    "`def get_stats(group)`"
   ]
  },
  {
   "cell_type": "code",
   "execution_count": 78,
   "metadata": {
    "collapsed": false,
    "deletable": true,
    "editable": true
   },
   "outputs": [],
   "source": [
    "#your code here\n",
    "def get_stats(group):\n",
    "    var = np.var(group.pplus,ddof=1)\n",
    "    if np.isnan(var):\n",
    "        var = 0\n",
    "    \n",
    "    df= pd.DataFrame({'min':np.min(group.pplus),'max':np.max(group.pplus),'rid':np.unique(group.business_id),\n",
    "                        'uavg':np.unique(group.user_avg),'count':group.business_id.count(),'var':var,\n",
    "                         'mean':np.mean(group.pplus),'stars':np.unique(group.stars)})\n",
    "    return df.set_index('rid')\n",
    "    "
   ]
  },
  {
   "cell_type": "markdown",
   "metadata": {
    "deletable": true,
    "editable": true
   },
   "source": [
    "We now run the code on the `completedf`. The group-by will automatically concatenate these one-row dataframes for us. This is a slow function, taking about 5 mins on my computer."
   ]
  },
  {
   "cell_type": "code",
   "execution_count": 79,
   "metadata": {
    "collapsed": false,
    "deletable": true,
    "editable": true
   },
   "outputs": [
    {
     "name": "stdout",
     "output_type": "stream",
     "text": [
      "CPU times: user 6min 54s, sys: 29.1 s, total: 7min 23s\n",
      "Wall time: 7min 26s\n"
     ]
    }
   ],
   "source": [
    "%%time\n",
    "dftouse=completedf.groupby(['review_id', 'topic']).apply(get_stats).reset_index()"
   ]
  },
  {
   "cell_type": "markdown",
   "metadata": {
    "deletable": true,
    "editable": true
   },
   "source": [
    "We can see the shape of `dftouse` and what it looks like."
   ]
  },
  {
   "cell_type": "code",
   "execution_count": 80,
   "metadata": {
    "collapsed": false,
    "deletable": true,
    "editable": true,
    "scrolled": true
   },
   "outputs": [
    {
     "name": "stdout",
     "output_type": "stream",
     "text": [
      "(148355, 10)\n"
     ]
    },
    {
     "data": {
      "text/html": [
       "<div>\n",
       "<table border=\"1\" class=\"dataframe\">\n",
       "  <thead>\n",
       "    <tr style=\"text-align: right;\">\n",
       "      <th></th>\n",
       "      <th>review_id</th>\n",
       "      <th>topic</th>\n",
       "      <th>rid</th>\n",
       "      <th>count</th>\n",
       "      <th>max</th>\n",
       "      <th>mean</th>\n",
       "      <th>min</th>\n",
       "      <th>stars</th>\n",
       "      <th>uavg</th>\n",
       "      <th>var</th>\n",
       "    </tr>\n",
       "  </thead>\n",
       "  <tbody>\n",
       "    <tr>\n",
       "      <th>0</th>\n",
       "      <td>---gFan7_-hicaSgAi86Hg</td>\n",
       "      <td>0</td>\n",
       "      <td>btay-zbv6GGEp6c3Wg2MSw</td>\n",
       "      <td>2</td>\n",
       "      <td>0.610093</td>\n",
       "      <td>0.579968</td>\n",
       "      <td>0.549844</td>\n",
       "      <td>3</td>\n",
       "      <td>3.333333</td>\n",
       "      <td>0.001815</td>\n",
       "    </tr>\n",
       "    <tr>\n",
       "      <th>1</th>\n",
       "      <td>---gFan7_-hicaSgAi86Hg</td>\n",
       "      <td>1</td>\n",
       "      <td>btay-zbv6GGEp6c3Wg2MSw</td>\n",
       "      <td>1</td>\n",
       "      <td>0.668355</td>\n",
       "      <td>0.668355</td>\n",
       "      <td>0.668355</td>\n",
       "      <td>3</td>\n",
       "      <td>3.333333</td>\n",
       "      <td>0.000000</td>\n",
       "    </tr>\n",
       "    <tr>\n",
       "      <th>2</th>\n",
       "      <td>---sV8KdwfBoDw38KW_WnQ</td>\n",
       "      <td>0</td>\n",
       "      <td>VgLiSW1iGkpzIEXOgvUBEw</td>\n",
       "      <td>4</td>\n",
       "      <td>0.684918</td>\n",
       "      <td>0.551414</td>\n",
       "      <td>0.238338</td>\n",
       "      <td>3</td>\n",
       "      <td>3.285714</td>\n",
       "      <td>0.044633</td>\n",
       "    </tr>\n",
       "    <tr>\n",
       "      <th>3</th>\n",
       "      <td>---sV8KdwfBoDw38KW_WnQ</td>\n",
       "      <td>1</td>\n",
       "      <td>VgLiSW1iGkpzIEXOgvUBEw</td>\n",
       "      <td>6</td>\n",
       "      <td>0.825936</td>\n",
       "      <td>0.587913</td>\n",
       "      <td>0.397541</td>\n",
       "      <td>3</td>\n",
       "      <td>3.285714</td>\n",
       "      <td>0.022411</td>\n",
       "    </tr>\n",
       "    <tr>\n",
       "      <th>4</th>\n",
       "      <td>--0MzHNy7MVBRvZCOAeRPg</td>\n",
       "      <td>0</td>\n",
       "      <td>4gLecengX1JeGILm7DwU3w</td>\n",
       "      <td>1</td>\n",
       "      <td>0.736145</td>\n",
       "      <td>0.736145</td>\n",
       "      <td>0.736145</td>\n",
       "      <td>5</td>\n",
       "      <td>3.829268</td>\n",
       "      <td>0.000000</td>\n",
       "    </tr>\n",
       "  </tbody>\n",
       "</table>\n",
       "</div>"
      ],
      "text/plain": [
       "                review_id  topic                     rid  count       max      mean       min  stars      uavg       var\n",
       "0  ---gFan7_-hicaSgAi86Hg      0  btay-zbv6GGEp6c3Wg2MSw      2  0.610093  0.579968  0.549844      3  3.333333  0.001815\n",
       "1  ---gFan7_-hicaSgAi86Hg      1  btay-zbv6GGEp6c3Wg2MSw      1  0.668355  0.668355  0.668355      3  3.333333  0.000000\n",
       "2  ---sV8KdwfBoDw38KW_WnQ      0  VgLiSW1iGkpzIEXOgvUBEw      4  0.684918  0.551414  0.238338      3  3.285714  0.044633\n",
       "3  ---sV8KdwfBoDw38KW_WnQ      1  VgLiSW1iGkpzIEXOgvUBEw      6  0.825936  0.587913  0.397541      3  3.285714  0.022411\n",
       "4  --0MzHNy7MVBRvZCOAeRPg      0  4gLecengX1JeGILm7DwU3w      1  0.736145  0.736145  0.736145      5  3.829268  0.000000"
      ]
     },
     "execution_count": 80,
     "metadata": {},
     "output_type": "execute_result"
    }
   ],
   "source": [
    "print dftouse.shape\n",
    "dftouse.head()#note not all reviews will have both topics."
   ]
  },
  {
   "cell_type": "markdown",
   "metadata": {
    "deletable": true,
    "editable": true
   },
   "source": [
    "And finally we save it. This ends the Spark part of the homework. Save the csv file, store it somewhere safe first, and only then shut down your Vagrant/AWS cluster/Spark."
   ]
  },
  {
   "cell_type": "code",
   "execution_count": 81,
   "metadata": {
    "collapsed": true,
    "deletable": true,
    "editable": true
   },
   "outputs": [],
   "source": [
    "dftouse.to_csv(\"dftouse.csv\", index=False)"
   ]
  },
  {
   "cell_type": "markdown",
   "metadata": {
    "deletable": true,
    "editable": true
   },
   "source": [
    "Include `dftouse.csv` in your homework submission. Q5 is in `hw5part2.ipynb`."
   ]
  }
 ],
 "metadata": {
  "kernelspec": {
   "display_name": "Python 3",
   "language": "python",
   "name": "python3"
  },
  "language_info": {
   "codemirror_mode": {
    "name": "ipython",
    "version": 3
   },
   "file_extension": ".py",
   "mimetype": "text/x-python",
   "name": "python",
   "nbconvert_exporter": "python",
   "pygments_lexer": "ipython3",
   "version": "3.5.3"
  }
 },
 "nbformat": 4,
 "nbformat_minor": 0
}
