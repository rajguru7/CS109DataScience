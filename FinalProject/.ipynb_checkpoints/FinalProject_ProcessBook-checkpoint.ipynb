{
 "cells": [
  {
   "cell_type": "markdown",
   "metadata": {},
   "source": [
    "# Book Recommendation with Machine Learning\n",
    "<img src = \"https://img.grouponcdn.com/seocms/ajPaKzNP9U8cyrZ5vyexnD/10-Handwritten-Book-Recommendations-from-Unabridged-Bookstore_600c390-600x390.jpeg\">"
   ]
  },
  {
   "cell_type": "markdown",
   "metadata": {},
   "source": [
    "##Overview\n",
    "Online book store in Korea is as prosperous as in any other countries in the world. It has about 36% of entire book market share in Korea, and this number is consitently growing every year. <i>Yes24</i> is the leading online book store in Korea, having 44% of online book market. However, <i>Yes24</i> doesn't have a recommender system not so good that it often recommends totally irrelavant books, or even a goods that is not a book. <i>Yes24</i> recently opened a competition where data scientists suggest a solution for accurate book recommender, releasing the purchase history of 19,000 users within 2014. This motivated us to build a book recommeder algorithm, using the technique we've learned throughout the semester. <br><br>\n",
    "We've tried three different algorithms: one is based on popularities of books and the other on k-nearest neighbor (kNN) with user similarity and book similarity. As a result, we found that kNN with user similarity has the best recommendation accuracy"
   ]
  },
  {
   "cell_type": "markdown",
   "metadata": {},
   "source": [
    "##Data\n",
    "The data given by <i>Yes24</i> contains information about 19,000 users purchase history, involving about 19,000 books, in the following fields:\n",
    "\n",
    "- Customer ID: unique, encrypted customer identification `ID`\n",
    "- Transaction Date `Date`\n",
    "- Book Title `Title`\n",
    "- Type of transaction: takes either ordered, cancelled, or refunded `Class`\n",
    "- Book Category: Foreign literature, Domestic literature, Religion, Self-Development, or Humanities `Category`\n",
    "- Author: `Author`\n",
    "- ISBN code of book. 'nan' if not available `ISBN`\n",
    "- Publisher `Publisher`\n",
    "- Published date `Pub_Date`\n",
    "- Transaction Time `Order_Time`\n",
    "- Number of books in the transaction: Positive integer if purchased, and negative if refunded or cancelled. `Count`\n",
    "- \n"
   ]
  },
  {
   "cell_type": "markdown",
   "metadata": {},
   "source": [
    "##Baseline Algorithm"
   ]
  },
  {
   "cell_type": "markdown",
   "metadata": {},
   "source": [
    "Overview and Motivation: Provide an overview of the project goals and the motivation for it. Consider that this will be read by people who did not see your project proposal.\n",
    "\n",
    "Related Work: Anything that inspired you, such as a paper, a web site, or something we discussed in class.\n",
    "\n",
    "Initial Questions: What questions are you trying to answer? How did these questions evolve over the course of the project? What new questions did you consider in the course of your analysis? - Data: Source, scraping method, cleanup, storage, etc.\n",
    "\n",
    "Exploratory Data Analysis: What visualizations did you use to look at your data in different ways? What are the different statistical methods you considered? Justify the decisions you made, and show any major changes to your ideas. How did you reach these conclusions?\n",
    "\n",
    "Final Analysis: What did you learn about the data? How did you answer the questions? How can you justify your answers?"
   ]
  }
 ],
 "metadata": {
  "kernelspec": {
   "display_name": "Python 2",
   "language": "python",
   "name": "python2"
  },
  "language_info": {
   "codemirror_mode": {
    "name": "ipython",
    "version": 2
   },
   "file_extension": ".py",
   "mimetype": "text/x-python",
   "name": "python",
   "nbconvert_exporter": "python",
   "pygments_lexer": "ipython2",
   "version": "2.7.10"
  }
 },
 "nbformat": 4,
 "nbformat_minor": 0
}
