{
 "cells": [
  {
   "cell_type": "code",
   "execution_count": 1,
   "metadata": {
    "collapsed": true
   },
   "outputs": [],
   "source": [
    "%matplotlib inline\n",
    "import numpy as np\n",
    "import scipy as sp\n",
    "import matplotlib as mpl\n",
    "import matplotlib.cm as cm\n",
    "import matplotlib.pyplot as plt\n",
    "import pandas as pd\n",
    "pd.set_option('display.width', 500)\n",
    "pd.set_option('display.max_columns', 100)\n",
    "pd.set_option('display.notebook_repr_html', True)\n",
    "import seaborn as sns\n",
    "sns.set_style(\"whitegrid\")\n",
    "sns.set_context(\"poster\")"
   ]
  },
  {
   "cell_type": "code",
   "execution_count": 2,
   "metadata": {
    "collapsed": true
   },
   "outputs": [],
   "source": [
    "rawdf = pd.read_csv('Training_Data_Set_yes24_UTF8.txt',  sep=',')"
   ]
  },
  {
   "cell_type": "code",
   "execution_count": 3,
   "metadata": {
    "collapsed": false
   },
   "outputs": [
    {
     "data": {
      "text/html": [
       "<div>\n",
       "<table border=\"1\" class=\"dataframe\">\n",
       "  <thead>\n",
       "    <tr style=\"text-align: right;\">\n",
       "      <th></th>\n",
       "      <th>﻿\"일자\"</th>\n",
       "      <th>구분</th>\n",
       "      <th>회원번호</th>\n",
       "      <th>책제목</th>\n",
       "      <th>카테고리</th>\n",
       "      <th>작가</th>\n",
       "      <th>ISBN</th>\n",
       "      <th>출판사</th>\n",
       "      <th>출판일자</th>\n",
       "      <th>주문시간</th>\n",
       "      <th>수량</th>\n",
       "      <th>카트적재여부</th>\n",
       "      <th>카트적재일자</th>\n",
       "      <th>모바일구분</th>\n",
       "      <th>배송주소1</th>\n",
       "      <th>배송주소2</th>\n",
       "    </tr>\n",
       "  </thead>\n",
       "  <tbody>\n",
       "    <tr>\n",
       "      <th>0</th>\n",
       "      <td>20140928</td>\n",
       "      <td>주문</td>\n",
       "      <td>65856</td>\n",
       "      <td>무의미의 축제</td>\n",
       "      <td>해외문학</td>\n",
       "      <td>&lt;밀란 쿤데라&gt; 저/&lt;방미경&gt; 역</td>\n",
       "      <td>9788937489327</td>\n",
       "      <td>민음사</td>\n",
       "      <td>20140723</td>\n",
       "      <td>22</td>\n",
       "      <td>1</td>\n",
       "      <td>N</td>\n",
       "      <td>NaN</td>\n",
       "      <td>기기PID_PC</td>\n",
       "      <td>서울특별시</td>\n",
       "      <td>동작구</td>\n",
       "    </tr>\n",
       "  </tbody>\n",
       "</table>\n",
       "</div>"
      ],
      "text/plain": [
       "      ﻿\"일자\"  구분   회원번호      책제목  카테고리                  작가            ISBN  출판사      출판일자  주문시간  수량 카트적재여부  카트적재일자     모바일구분  배송주소1 배송주소2\n",
       "0  20140928  주문  65856  무의미의 축제  해외문학  <밀란 쿤데라> 저/<방미경> 역  9788937489327   민음사  20140723    22   1      N     NaN  기기PID_PC  서울특별시   동작구"
      ]
     },
     "execution_count": 3,
     "metadata": {},
     "output_type": "execute_result"
    }
   ],
   "source": [
    "rawdf.head(1)"
   ]
  },
  {
   "cell_type": "code",
   "execution_count": 4,
   "metadata": {
    "collapsed": false
   },
   "outputs": [
    {
     "data": {
      "text/html": [
       "<div>\n",
       "<table border=\"1\" class=\"dataframe\">\n",
       "  <thead>\n",
       "    <tr style=\"text-align: right;\">\n",
       "      <th></th>\n",
       "      <th>Date</th>\n",
       "      <th>Class</th>\n",
       "      <th>ID</th>\n",
       "      <th>Title</th>\n",
       "      <th>Category</th>\n",
       "      <th>Author</th>\n",
       "      <th>ISBN</th>\n",
       "      <th>Publisher</th>\n",
       "      <th>Pub_Date</th>\n",
       "      <th>Order_Time</th>\n",
       "      <th>Count</th>\n",
       "      <th>Cart</th>\n",
       "      <th>Cart_Date</th>\n",
       "      <th>Device</th>\n",
       "      <th>Address1</th>\n",
       "      <th>Address2</th>\n",
       "    </tr>\n",
       "  </thead>\n",
       "  <tbody>\n",
       "    <tr>\n",
       "      <th>0</th>\n",
       "      <td>20140928</td>\n",
       "      <td>주문</td>\n",
       "      <td>65856</td>\n",
       "      <td>무의미의 축제</td>\n",
       "      <td>해외문학</td>\n",
       "      <td>&lt;밀란 쿤데라&gt; 저/&lt;방미경&gt; 역</td>\n",
       "      <td>9788937489327</td>\n",
       "      <td>민음사</td>\n",
       "      <td>20140723</td>\n",
       "      <td>22</td>\n",
       "      <td>1</td>\n",
       "      <td>N</td>\n",
       "      <td>NaN</td>\n",
       "      <td>기기PID_PC</td>\n",
       "      <td>서울특별시</td>\n",
       "      <td>동작구</td>\n",
       "    </tr>\n",
       "  </tbody>\n",
       "</table>\n",
       "</div>"
      ],
      "text/plain": [
       "       Date Class     ID    Title Category              Author            ISBN Publisher  Pub_Date  Order_Time  Count Cart  Cart_Date    Device Address1 Address2\n",
       "0  20140928    주문  65856  무의미의 축제     해외문학  <밀란 쿤데라> 저/<방미경> 역  9788937489327        민음사  20140723          22      1    N        NaN  기기PID_PC    서울특별시      동작구"
      ]
     },
     "execution_count": 4,
     "metadata": {},
     "output_type": "execute_result"
    }
   ],
   "source": [
    "# Change header first\n",
    "headers={rawdf.columns[0]:'Date', '구분':'Class', '회원번호':'ID', '책제목':'Title', '카테고리':'Category', '작가':'Author',\n",
    "         '출판사':'Publisher', '출판일자':'Pub_Date', '주문시간':'Order_Time', '수량':'Count', '카트적재여부':'Cart',\n",
    "         '카트적재일자':'Cart_Date', '모바일구분':'Device','배송주소1':'Address1','배송주소2':'Address2'}\n",
    "rawdf.rename(columns=headers, inplace=True)\n",
    "rawdf.head(1)"
   ]
  },
  {
   "cell_type": "code",
   "execution_count": 5,
   "metadata": {
    "collapsed": false
   },
   "outputs": [
    {
     "name": "stdout",
     "output_type": "stream",
     "text": [
      "We have following default columns:\n",
      "1 Date\n",
      "2 Class\n",
      "3 ID\n",
      "4 Title\n",
      "5 Category\n",
      "6 Author\n",
      "7 ISBN\n",
      "8 Publisher\n",
      "9 Pub_Date\n",
      "10 Order_Time\n",
      "11 Count\n",
      "12 Cart\n",
      "13 Cart_Date\n",
      "14 Device\n",
      "15 Address1\n",
      "16 Address2\n"
     ]
    }
   ],
   "source": [
    "print 'We have following default columns:'\n",
    "for i, item in enumerate(rawdf.columns):\n",
    "    print i+1, item"
   ]
  },
  {
   "cell_type": "code",
   "execution_count": 6,
   "metadata": {
    "collapsed": false
   },
   "outputs": [
    {
     "name": "stderr",
     "output_type": "stream",
     "text": [
      "/Users/hankyuljoo/anaconda/lib/python2.7/site-packages/pandas/core/indexing.py:115: SettingWithCopyWarning: \n",
      "A value is trying to be set on a copy of a slice from a DataFrame\n",
      "\n",
      "See the the caveats in the documentation: http://pandas.pydata.org/pandas-docs/stable/indexing.html#indexing-view-versus-copy\n",
      "  self._setitem_with_indexer(indexer, value)\n"
     ]
    }
   ],
   "source": [
    "# Modifications on Address and ISBN\n",
    "\n",
    "rawdf['Address1'].loc[rawdf['Address1']=='강원']='강원도'\n",
    "rawdf['Address1'].loc[rawdf['Address1']=='경기']='경기도'\n",
    "rawdf['Address1'].loc[rawdf['Address1']=='경남']='경상남도'\n",
    "rawdf['Address1'].loc[rawdf['Address1']=='경북']='경상북도'\n",
    "rawdf['Address1'].loc[rawdf['Address1']=='광주']='광주광역시'\n",
    "rawdf['Address1'].loc[rawdf['Address1']=='대구']='대구광역시'\n",
    "rawdf['Address1'].loc[rawdf['Address1']=='대전']='대전광역시'\n",
    "rawdf['Address1'].loc[rawdf['Address1']=='부산']='부산광역시'\n",
    "rawdf['Address1'].loc[rawdf['Address1']=='서울']='서울특별시'\n",
    "rawdf['Address1'].loc[rawdf['Address1']=='세종']='세종특별자치시'\n",
    "rawdf['Address1'].loc[rawdf['Address1']=='울산']='울산광역시'\n",
    "rawdf['Address1'].loc[rawdf['Address1']=='인천']='인천광역시'\n",
    "rawdf['Address1'].loc[rawdf['Address1']=='전남']='전라남도'\n",
    "rawdf['Address1'].loc[rawdf['Address1']=='전북']='전라북도'\n",
    "rawdf['Address1'].loc[rawdf['Address1']=='제주']='제주특별자치도'\n",
    "rawdf['Address1'].loc[rawdf['Address1']=='충남']='충청남도'\n",
    "rawdf['Address1'].loc[rawdf['Address1']=='충북']='충청북도'\n",
    "\n",
    "rawdf['ISBN']=rawdf['ISBN'].apply(lambda r: str(r).strip())\n",
    "rawdf['ISBN'].loc[rawdf['ISBN']=='-']=''\n",
    "rawdf['ISBN'].loc[rawdf['ISBN']=='nan']=''"
   ]
  },
  {
   "cell_type": "code",
   "execution_count": 7,
   "metadata": {
    "collapsed": false,
    "scrolled": false
   },
   "outputs": [],
   "source": [
    "# tmpdf = rawdf[rawdf['ID']==82348]\n",
    "# print tmpdf[tmpdf['Class']=='주문'].shape, tmpdf[tmpdf['Class']=='취소'].shape,  tmpdf[tmpdf['Class']=='환불'].shape\n",
    "\n",
    "# # tmpdf[tmpdf['ISBN']=='9788971847244']\n",
    "# tmpdf[tmpdf['Class']=='취소']\n",
    "# tmpdf[tmpdf['ISBN']=='9788937460296']"
   ]
  },
  {
   "cell_type": "code",
   "execution_count": 8,
   "metadata": {
    "collapsed": false
   },
   "outputs": [],
   "source": [
    "# tmpdf[tmpdf['ISBN']=='9788971847244']"
   ]
  },
  {
   "cell_type": "code",
   "execution_count": 9,
   "metadata": {
    "collapsed": false,
    "scrolled": true
   },
   "outputs": [],
   "source": [
    "# def remove_return_cancel(indf):\n",
    "\n",
    "#     canceldf = indf[indf['Class'].isin(['취소','환불'])][['ID','Title']]\n",
    "#     canceldf['index'] = canceldf.index\n",
    "#     group = canceldf.groupby(['ID','Title'])\n",
    "\n",
    "#     del_p = []\n",
    "#     for cid, tit, cnt in zip(group['ID'].head(), group['Title'].head(), group.size()):\n",
    "\n",
    "#         purchlist = list(indf[(indf.ID==cid)  & (indf.Class=='주문') & (indf.Title== tit)][['Class','Title']].index)\n",
    "        \n",
    "#         ind = 0\n",
    "#         for item in purchlist:\n",
    "#             while ind < cnt:\n",
    "#                 del_p.append(item)\n",
    "#                 ind += 1\n",
    "\n",
    "#     return indf.drop(del_p)\n",
    "\n",
    "# remove_return_cancel(tmpdf)\n"
   ]
  },
  {
   "cell_type": "code",
   "execution_count": 9,
   "metadata": {
    "collapsed": false
   },
   "outputs": [],
   "source": [
    "def rm_return_cancel(indf):\n",
    "    \n",
    "    def ret(group):\n",
    "\n",
    "        datadict = {}\n",
    "        datadict['Ret_ID'] = list(group['ID'])[0]\n",
    "        datadict['Ret_Count'] = len(group['ID'])\n",
    "        datadict['Ret_Index'] = list(group['index'])\n",
    "\n",
    "        redf = pd.DataFrame([datadict])\n",
    "        redf.set_index('Ret_ID',inplace=True)\n",
    "        return redf\n",
    "\n",
    "    def purch(group):\n",
    "\n",
    "        datadict = {}\n",
    "        datadict['Pur_ID'] = list(group['ID'])[0]\n",
    "        datadict['Pur_Count'] = len(group['ID'])\n",
    "        datadict['Pur_Index'] = list(group['index'])\n",
    "\n",
    "        redf = pd.DataFrame([datadict])\n",
    "        redf.set_index('Pur_ID',inplace=True)\n",
    "        return redf\n",
    "\n",
    "    def total_index(df):\n",
    "        return df['Pur_Index'][:df['Removing_Count']]+ df['Ret_Index'][:df['Removing_Count']]    \n",
    "    \n",
    "    df_c = indf[indf['Class'].isin(['취소','환불'])][['ID','Title']]\n",
    "    df_c['index']= df_c.index\n",
    "    df_cnew = df_c.groupby(['ID','Title']).apply(ret).reset_index()\n",
    "    df_cnew = df_cnew[['Title','ID','Ret_Count','Ret_Index']]\n",
    "\n",
    "    df_p = indf[indf['Class'].isin(['주문'])][['ID','Title']]\n",
    "    df_p['index'] = df_p.index\n",
    "    df_pnew = df_p.groupby(['ID','Title']).apply(purch).reset_index()\n",
    "    df_pnew = df_pnew[['Title','ID','Pur_Count','Pur_Index']]\n",
    "\n",
    "    merg = pd.merge(df_pnew, df_cnew, on=['ID','Title'])\n",
    "    merg['Removing_Count'] = merg[['Ret_Count', 'Pur_Count']].min(axis=1)\n",
    "#     merg['Removing_Index'] = ''\n",
    "    merg['Removing_Index'] = merg.apply(total_index,axis=1)\n",
    "    rem_list = merg['Removing_Index'].sum()\n",
    "    \n",
    "    return rem_list"
   ]
  },
  {
   "cell_type": "code",
   "execution_count": 10,
   "metadata": {
    "collapsed": false
   },
   "outputs": [
    {
     "name": "stdout",
     "output_type": "stream",
     "text": [
      "(511742, 16) (19264, 16) (3877, 16)\n",
      "(488874, 16) (55, 16) (218, 16)\n",
      "CPU times: user 13min 56s, sys: 40.3 s, total: 14min 36s\n",
      "Wall time: 15min 11s\n"
     ]
    }
   ],
   "source": [
    "%%time\n",
    "\n",
    "print rawdf[rawdf['Class']=='주문'].shape, rawdf[rawdf['Class']=='취소'].shape,  rawdf[rawdf['Class']=='환불'].shape\n",
    "remlist = rm_return_cancel(rawdf)\n",
    "rawdf = rawdf.drop(remlist)\n",
    "print rawdf[rawdf['Class']=='주문'].shape, rawdf[rawdf['Class']=='취소'].shape,  rawdf[rawdf['Class']=='환불'].shape"
   ]
  },
  {
   "cell_type": "code",
   "execution_count": 213,
   "metadata": {
    "collapsed": false
   },
   "outputs": [],
   "source": [
    "answerdf = rawdf[rawdf['Class'].isin(['취소','환불'])]\n",
    "answerdf.to_csv(\"Data_Should_Be_In_Competition_Test_Set.csv\", index=False)\n",
    "\n",
    "cleardf = rawdf[rawdf['Class']=='주문']\n",
    "cleardf.to_csv(\"Data_WO_CancelReturn.csv\", index=False)\n",
    "# cleardf = pd.read_csv(\"Data_WO_CancelReturn.csv\")"
   ]
  },
  {
   "cell_type": "markdown",
   "metadata": {},
   "source": [
    "We remove transaction pairs of (purchase, cancel) and (purchase, return). In our given data set, not all purchase transaction data are included (those information seem to be splitted into the test set). \n",
    "```\n",
    "                    주문      캔슬      리턴   \n",
    "    Given data :   511742,  19264,   3877\n",
    "      New data :   488874,     55,    218 \n",
    "```\n",
    "The 273 transactions of cancel and return do not have corresponding purchase transactions in the given data. We'll drop remaining 273 transactions as well, and only consider 488,874 transactions."
   ]
  },
  {
   "cell_type": "code",
   "execution_count": 24,
   "metadata": {
    "collapsed": false
   },
   "outputs": [
    {
     "name": "stdout",
     "output_type": "stream",
     "text": [
      "# of entire data :  489147  # of 5 category data :  108171\n"
     ]
    },
    {
     "data": {
      "text/plain": [
       "Category\n",
       "국내문학    24756\n",
       "인문      17657\n",
       "자기계발    18594\n",
       "종교      12613\n",
       "해외문학    34551\n",
       "dtype: int64"
      ]
     },
     "execution_count": 24,
     "metadata": {},
     "output_type": "execute_result"
    }
   ],
   "source": [
    "# Narrow Down to Five Categories\n",
    "\n",
    "FocusCategory = ['인문','자기계발','국내문학','해외문학','종교']\n",
    "Alldf = cleardf[cleardf['Category'].isin(FocusCategory)]\n",
    "\n",
    "print '# of entire data : ', len(rawdf), ' # of 5 category data : ',len(Alldf)\n",
    "Alldf.groupby('Category').size()"
   ]
  },
  {
   "cell_type": "code",
   "execution_count": 31,
   "metadata": {
    "collapsed": false
   },
   "outputs": [
    {
     "data": {
      "text/plain": [
       "<matplotlib.text.Text at 0x120632250>"
      ]
     },
     "execution_count": 31,
     "metadata": {},
     "output_type": "execute_result"
    },
    {
     "data": {
      "image/png": "[encoded data removed]",
      "text/plain": [
       "<matplotlib.figure.Figure at 0x11dbe9610>"
      ]
     },
     "metadata": {},
     "output_type": "display_data"
    }
   ],
   "source": [
    "plt.figure(figsize=(10,5))\n",
    "Alldf.groupby('ID').size().hist(bins=range(0,120,5))\n",
    "plt.title('Including All Five Categories');\n",
    "plt.xlabel('Number of Purchase Transactions')"
   ]
  },
  {
   "cell_type": "code",
   "execution_count": 33,
   "metadata": {
    "collapsed": false
   },
   "outputs": [
    {
     "data": {
      "text/plain": [
       "(108171, 17657, 18594, 24756, 34551, 12613)"
      ]
     },
     "execution_count": 33,
     "metadata": {},
     "output_type": "execute_result"
    }
   ],
   "source": [
    "# Add columns of ['user_purchase_count'] and ['book_sell_count']\n",
    "def recompute_frame(ldf):\n",
    "    \"\"\"\n",
    "    takes a dataframe ldf, makes a copy of it, and returns the copy\n",
    "    with all averages and review counts recomputed\n",
    "    this is used when a frame is subsetted.\n",
    "    \"\"\"\n",
    "    ldfu=ldf.groupby('ID')\n",
    "    user_purchase_count=ldfu.Title.count()\n",
    "    ldfb=ldf.groupby('Title')    \n",
    "    book_sell_count=ldfb.ID.count()\n",
    "    \n",
    "    nldf=ldf.copy()\n",
    "    nldf.set_index(['ID'], inplace=True)\n",
    "    nldf['user_purchase_count']=user_purchase_count\n",
    "    nldf.reset_index(inplace=True)\n",
    "    nldf.set_index(['Title'], inplace=True)\n",
    "    nldf['book_sell_count']=book_sell_count    \n",
    "    nldf.reset_index(inplace=True)\n",
    "    return nldf\n",
    "\n",
    "Alldf = recompute_frame(Alldf)\n",
    "Humdf = recompute_frame(Alldf[Alldf['Category']=='인문'])\n",
    "Seldf = recompute_frame(Alldf[Alldf['Category']=='자기계발'])\n",
    "Domdf = recompute_frame(Alldf[Alldf['Category']=='국내문학'])\n",
    "Fordf = recompute_frame(Alldf[Alldf['Category']=='해외문학'])\n",
    "Regdf = recompute_frame(Alldf[Alldf['Category']=='종교'])\n",
    "\n",
    "len(Alldf), len(Humdf), len(Seldf), len(Domdf), len(Fordf), len(Regdf)"
   ]
  },
  {
   "cell_type": "code",
   "execution_count": 54,
   "metadata": {
    "collapsed": false
   },
   "outputs": [
    {
     "data": {
      "image/png": "[encoded data removed]",
      "text/plain": [
       "<matplotlib.figure.Figure at 0x132b00890>"
      ]
     },
     "metadata": {},
     "output_type": "display_data"
    }
   ],
   "source": [
    "sz = 12\n",
    "plt.subplot(3,2,1); Alldf.groupby('ID').size().hist(bins=range(0,50,5))\n",
    "plt.title('Including All Five Categories',size=sz); plt.xticks(size=sz); plt.yticks(size=sz);\n",
    "\n",
    "plt.subplot(3,2,2); Humdf.groupby('ID').size().hist(bins=range(0,50,5))\n",
    "plt.title('Humanities',size=sz); plt.xticks(size=sz); plt.yticks(size=sz);\n",
    "\n",
    "plt.subplot(3,2,3); Seldf.groupby('ID').size().hist(bins=range(0,50,5))\n",
    "plt.title('Self Improvement',size=sz); plt.xticks(size=sz); plt.yticks(size=sz);\n",
    "\n",
    "plt.subplot(3,2,4); Domdf.groupby('ID').size().hist(bins=range(0,50,5))\n",
    "plt.title('Domestic Literature',size=sz); plt.xticks(size=sz); plt.yticks(size=sz);\n",
    "\n",
    "plt.subplot(3,2,5); Fordf.groupby('ID').size().hist(bins=range(0,50,5))\n",
    "plt.title('Foreign Literature',size=sz); plt.xlabel('Number of Purchase Transactions',size=sz)\n",
    "plt.xticks(size=sz); plt.yticks(size=sz);\n",
    "\n",
    "plt.subplot(3,2,6); Regdf.groupby('ID').size().hist(bins=range(0,50,5))\n",
    "plt.title('Religion',size=sz); plt.xlabel('Number of Purchase Transactions',size=sz)\n",
    "plt.xticks(size=sz); plt.yticks(size=sz);"
   ]
  },
  {
   "cell_type": "code",
   "execution_count": 188,
   "metadata": {
    "collapsed": false
   },
   "outputs": [],
   "source": [
    "def train_test_splitting(indf, take, testtake, over):\n",
    "        \n",
    "    trainlist=[]\n",
    "    testlist=[]\n",
    "    validatelist=[]\n",
    "    for k, v in indf.groupby('ID'):\n",
    "        if np.mean(v.user_purchase_count) > over:\n",
    "            takenos=np.random.choice(range(take), size=testtake, replace=False)\n",
    "            takelist=np.array([e in takenos for e in range(take)])\n",
    "            validatelist.append(v[-take:][~takelist])#use those \n",
    "            testlist.append(v[-take:][takelist])#use the other \n",
    "            trainlist.append(v[:-take])\n",
    "        else:\n",
    "            trainlist.append(v)\n",
    "    traindf=pd.concat(trainlist)\n",
    "    validatedf=pd.concat(validatelist)\n",
    "    testdf=pd.concat(testlist)\n",
    "    print traindf.shape, validatedf.shape, testdf.shape\n",
    "\n",
    "    return traindf, validatedf, testdf"
   ]
  },
  {
   "cell_type": "code",
   "execution_count": 153,
   "metadata": {
    "collapsed": false
   },
   "outputs": [
    {
     "name": "stdout",
     "output_type": "stream",
     "text": [
      "(57243, 18)\n",
      "(4990, 18)\n",
      "(8422, 18)\n",
      "(16766, 18)\n",
      "(7507, 18)\n",
      "(9117, 18)\n"
     ]
    }
   ],
   "source": [
    "print Alldf[Alldf.user_purchase_count>10].shape\n",
    "print Humdf[Humdf.user_purchase_count>7].shape\n",
    "print Seldf[Seldf.user_purchase_count>4].shape\n",
    "print Fordf[Fordf.user_purchase_count>6].shape\n",
    "print Regdf[Regdf.user_purchase_count>4].shape\n",
    "print Domdf[Domdf.user_purchase_count>6].shape"
   ]
  },
  {
   "cell_type": "code",
   "execution_count": 206,
   "metadata": {
    "collapsed": false
   },
   "outputs": [
    {
     "name": "stdout",
     "output_type": "stream",
     "text": [
      "(84387, 18) (13874, 18) (9910, 18)\n"
     ]
    }
   ],
   "source": [
    "All_traindf, All_validatedf, All_testdf = train_test_splitting(Alldf, take=12, testtake=5, over=12) # take: total take"
   ]
  },
  {
   "cell_type": "code",
   "execution_count": 205,
   "metadata": {
    "collapsed": false
   },
   "outputs": [
    {
     "name": "stdout",
     "output_type": "stream",
     "text": [
      "(15053, 18) (1488, 18) (1116, 18)\n"
     ]
    }
   ],
   "source": [
    "Hum_traindf, Hum_validatedf, Hum_testdf = train_test_splitting(Humdf, take=7, testtake=3, over=7) # take: total take"
   ]
  },
  {
   "cell_type": "code",
   "execution_count": 204,
   "metadata": {
    "collapsed": false
   },
   "outputs": [
    {
     "name": "stdout",
     "output_type": "stream",
     "text": [
      "(28851, 18) (3420, 18) (2280, 18)\n"
     ]
    }
   ],
   "source": [
    "For_traindf, For_validatedf, For_testdf = train_test_splitting(Fordf, take=10, testtake=4, over=10) # take: total take"
   ]
  },
  {
   "cell_type": "code",
   "execution_count": 203,
   "metadata": {
    "collapsed": false
   },
   "outputs": [
    {
     "name": "stdout",
     "output_type": "stream",
     "text": [
      "(21726, 18) (1818, 18) (1212, 18)\n"
     ]
    }
   ],
   "source": [
    "Dom_traindf, Dom_validatedf, Dom_testdf = train_test_splitting(Domdf, take=10, testtake=4, over=10) # take: total taket 2"
   ]
  },
  {
   "cell_type": "code",
   "execution_count": 201,
   "metadata": {
    "collapsed": false
   },
   "outputs": [
    {
     "name": "stdout",
     "output_type": "stream",
     "text": [
      "(10394, 18) (1268, 18) (951, 18)\n"
     ]
    }
   ],
   "source": [
    "Reg_traindf, Reg_validatedf, Reg_testdf = train_test_splitting(Regdf, take=7, testtake=3, over=7) # take: total take"
   ]
  },
  {
   "cell_type": "code",
   "execution_count": 197,
   "metadata": {
    "collapsed": false
   },
   "outputs": [
    {
     "name": "stdout",
     "output_type": "stream",
     "text": [
      "(15808, 18) (1592, 18) (1194, 18)\n"
     ]
    }
   ],
   "source": [
    "Sel_traindf, Sel_validatedf, Sel_testdf = train_test_splitting(Seldf, take=7, testtake=3, over=7) # take: total take"
   ]
  },
  {
   "cell_type": "code",
   "execution_count": 198,
   "metadata": {
    "collapsed": false
   },
   "outputs": [
    {
     "name": "stdout",
     "output_type": "stream",
     "text": [
      "5 4 3\n",
      "4 4 3\n",
      "1 0 0\n",
      "6 0 0\n",
      "5 0 0\n",
      "3 0 0\n",
      "1 0 0\n",
      "21 4 3\n",
      "2 0 0\n",
      "2 0 0\n"
     ]
    }
   ],
   "source": [
    "for i in range(10):\n",
    "    trdf, vadf, tsdf = Sel_traindf, Sel_validatedf, Sel_testdf\n",
    "    exampleid = trdf['ID'][list(np.random.choice(range(1,1000),1))[0]]\n",
    "    print len(trdf[trdf['ID']==exampleid]), len(vadf[vadf['ID']==exampleid]), len(tsdf[tsdf['ID']==exampleid])"
   ]
  },
  {
   "cell_type": "code",
   "execution_count": null,
   "metadata": {
    "collapsed": true
   },
   "outputs": [],
   "source": []
  },
  {
   "cell_type": "code",
   "execution_count": null,
   "metadata": {
    "collapsed": true
   },
   "outputs": [],
   "source": []
  },
  {
   "cell_type": "code",
   "execution_count": null,
   "metadata": {
    "collapsed": false
   },
   "outputs": [],
   "source": []
  },
  {
   "cell_type": "code",
   "execution_count": 207,
   "metadata": {
    "collapsed": true
   },
   "outputs": [],
   "source": [
    "All_traindf.to_csv(\"All_train.csv\", index=False)\n",
    "All_validatedf.to_csv(\"All_validate.csv\", index=False)\n",
    "All_testdf.to_csv(\"All_test.csv\", index=False)"
   ]
  },
  {
   "cell_type": "code",
   "execution_count": 208,
   "metadata": {
    "collapsed": true
   },
   "outputs": [],
   "source": [
    "Hum_traindf.to_csv(\"Hum_train.csv\", index=False)\n",
    "Hum_validatedf.to_csv(\"Hum_validate.csv\", index=False)\n",
    "Hum_testdf.to_csv(\"Hum_test.csv\", index=False)"
   ]
  },
  {
   "cell_type": "code",
   "execution_count": 209,
   "metadata": {
    "collapsed": true
   },
   "outputs": [],
   "source": [
    "For_traindf.to_csv(\"For_train.csv\", index=False)\n",
    "For_validatedf.to_csv(\"For_validate.csv\", index=False)\n",
    "For_testdf.to_csv(\"For_test.csv\", index=False)"
   ]
  },
  {
   "cell_type": "code",
   "execution_count": 210,
   "metadata": {
    "collapsed": true
   },
   "outputs": [],
   "source": [
    "Dom_traindf.to_csv(\"Dom_train.csv\", index=False)\n",
    "Dom_validatedf.to_csv(\"Dom_validate.csv\", index=False)\n",
    "Dom_testdf.to_csv(\"Dom_test.csv\", index=False)"
   ]
  },
  {
   "cell_type": "code",
   "execution_count": 211,
   "metadata": {
    "collapsed": true
   },
   "outputs": [],
   "source": [
    "Reg_traindf.to_csv(\"Reg_train.csv\", index=False)\n",
    "Reg_validatedf.to_csv(\"Reg_validate.csv\", index=False)\n",
    "Reg_testdf.to_csv(\"Reg_test.csv\", index=False)"
   ]
  },
  {
   "cell_type": "code",
   "execution_count": 212,
   "metadata": {
    "collapsed": true
   },
   "outputs": [],
   "source": [
    "Sel_traindf.to_csv(\"Sel_train.csv\", index=False)\n",
    "Sel_validatedf.to_csv(\"Sel_validate.csv\", index=False)\n",
    "Sel_testdf.to_csv(\"Sel_test.csv\", index=False)"
   ]
  },
  {
   "cell_type": "code",
   "execution_count": null,
   "metadata": {
    "collapsed": true
   },
   "outputs": [],
   "source": []
  }
 ],
 "metadata": {
  "kernelspec": {
   "display_name": "Python 2",
   "language": "python",
   "name": "python2"
  },
  "language_info": {
   "codemirror_mode": {
    "name": "ipython",
    "version": 2
   },
   "file_extension": ".py",
   "mimetype": "text/x-python",
   "name": "python",
   "nbconvert_exporter": "python",
   "pygments_lexer": "ipython2",
   "version": "2.7.10"
  }
 },
 "nbformat": 4,
 "nbformat_minor": 0
}
