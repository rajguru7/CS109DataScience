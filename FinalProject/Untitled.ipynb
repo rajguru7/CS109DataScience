{
 "cells": [
  {
   "cell_type": "code",
   "execution_count": null,
   "metadata": {
    "collapsed": false
   },
   "outputs": [],
   "source": [
    "import scipy as sp\n",
    "import networkx as nx\n",
    "import matplotlib.pyplot as plt\n",
    "\n",
    "G=nx.star_graph(20)\n",
    "pos=nx.spring_layout(G)\n",
    "\n",
    "\n",
    "keys = pos.keys()\n",
    "newpos = {}\n",
    "newpos[0] = pos[0]\n",
    "for key in keys[1:]:\n",
    "    newpos[key] = pos[key]/sp.linalg.norm(pos[key])*key\n",
    "colors=range(20)\n",
    "nx.draw(G,newpos,node_color='#A0CBE2',edge_color=colors,width=4,edge_cmap=plt.cm.Blues,with_labels=False)\n",
    "plt.savefig(\"edge_colormap.eps\") # save as png\n",
    "plt.show() # display"
   ]
  },
  {
   "cell_type": "code",
   "execution_count": null,
   "metadata": {
    "collapsed": true
   },
   "outputs": [],
   "source": []
  }
 ],
 "metadata": {
  "kernelspec": {
   "display_name": "Python 2",
   "language": "python",
   "name": "python2"
  },
  "language_info": {
   "codemirror_mode": {
    "name": "ipython",
    "version": 2
   },
   "file_extension": ".py",
   "mimetype": "text/x-python",
   "name": "python",
   "nbconvert_exporter": "python",
   "pygments_lexer": "ipython2",
   "version": "2.7.10"
  }
 },
 "nbformat": 4,
 "nbformat_minor": 0
}
